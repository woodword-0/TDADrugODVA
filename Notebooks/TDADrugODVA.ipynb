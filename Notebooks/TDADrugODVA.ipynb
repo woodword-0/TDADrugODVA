{
 "cells": [
  {
   "cell_type": "markdown",
   "metadata": {},
   "source": [
    "# Virginia Drug Overdose Deaths by County Mapper Project"
   ]
  },
  {
   "cell_type": "code",
   "execution_count": 1,
   "metadata": {},
   "outputs": [],
   "source": [
    "import sklearn\n",
    "import sklearn.manifold as manifold\n",
    "import umap\n",
    "import kmapper as km\n",
    "import numpy as np\n",
    "import matplotlib.pyplot as plt\n",
    "from kmapper.jupyter import display\n",
    "import pandas as pd"
   ]
  },
  {
   "cell_type": "code",
   "execution_count": 2,
   "metadata": {},
   "outputs": [],
   "source": [
    "df = pd.read_csv('/Users/joshturner/Desktop/DrugOverdoseTDAVA/Data/OverdoseDeathsByRegion.csv')\n",
    "# Dataset: https://data.virginia.gov/dataset/vdh-pud-overdose-deaths-by-year-and-geography/resource/a3a62450-44f6-4db2-b400-318c57674b11"
   ]
  },
  {
   "cell_type": "code",
   "execution_count": 6,
   "metadata": {},
   "outputs": [
    {
     "name": "stdout",
     "output_type": "stream",
     "text": [
      "_id                                                   int64\n",
      "Data Extract Date                            datetime64[ns]\n",
      "Overdose Death Year                                   Int64\n",
      "Overdose Death Drug Class                    string[python]\n",
      "Overdose Death Geography Level               string[python]\n",
      "Overdose Death FIPS                                   int64\n",
      "Overdose Death Geography Name                string[python]\n",
      "Overdose Death Health District               string[python]\n",
      "Overdose Death Count                                float64\n",
      "Overdose Death Rate per 100,000 Residents           float64\n",
      "dtype: object\n"
     ]
    }
   ],
   "source": [
    "# Convert date column\n",
    "df['Data Extract Date'] = pd.to_datetime(df['Data Extract Date'], errors='coerce')\n",
    "# Convert year to integer\n",
    "df['Overdose Death Year'] = pd.to_numeric(df['Overdose Death Year'], errors='coerce').astype('Int64')\n",
    "# Convert death count and rate to numeric\n",
    "df['Overdose Death Count'] = pd.to_numeric(df['Overdose Death Count'], errors='coerce')\n",
    "df['Overdose Death Rate per 100,000 Residents'] = pd.to_numeric(df['Overdose Death Rate per 100,000 Residents'], errors='coerce')\n",
    "# Convert text fields to string explicitly (optional but improves clarity)\n",
    "text_columns = [\n",
    "    'Overdose Death Drug Class',\n",
    "    'Overdose Death Geography Level',\n",
    "    'Overdose Death Geography Name',\n",
    "    'Overdose Death Health District'\n",
    "]\n",
    "df[text_columns] = df[text_columns].astype('string')\n",
    "# Optionally, inspect types to confirm\n",
    "print(df.dtypes)"
   ]
  },
  {
   "cell_type": "code",
   "execution_count": 8,
   "metadata": {},
   "outputs": [
    {
     "data": {
      "text/plain": [
       "(20702, 10)"
      ]
     },
     "execution_count": 8,
     "metadata": {},
     "output_type": "execute_result"
    }
   ],
   "source": [
    "df.shape"
   ]
  },
  {
   "cell_type": "markdown",
   "metadata": {},
   "source": [
    "# Grabs the longitude and latitude for each city"
   ]
  },
  {
   "cell_type": "code",
   "execution_count": 7,
   "metadata": {},
   "outputs": [],
   "source": [
    "counties = df[\"Overdose Death Geography Name\"].unique()"
   ]
  },
  {
   "cell_type": "code",
   "execution_count": 9,
   "metadata": {},
   "outputs": [
    {
     "name": "stdout",
     "output_type": "stream",
     "text": [
      "Error geocoding Norfolk City: Service timed out\n",
      "Error geocoding Fairfax City: Service timed out\n",
      "Error geocoding Petersburg City: Service timed out\n"
     ]
    },
    {
     "data": {
      "text/plain": [
       "(135, 3)"
      ]
     },
     "execution_count": 9,
     "metadata": {},
     "output_type": "execute_result"
    }
   ],
   "source": [
    "import pandas as pd\n",
    "from geopy.geocoders import Nominatim\n",
    "from time import sleep\n",
    "\n",
    "# Initialize geolocator\n",
    "geolocator = Nominatim(user_agent=\"va_county_geocoder\")\n",
    "\n",
    "# Create empty lists to store results\n",
    "latitudes = []\n",
    "longitudes = []\n",
    "\n",
    "# Loop over each county\n",
    "for county in counties:\n",
    "    location = None\n",
    "    try:\n",
    "        # Add 'Virginia, USA' to narrow it down\n",
    "        location = geolocator.geocode(f\"{county}, Virginia, USA\")\n",
    "        if location:\n",
    "            latitudes.append(location.latitude)\n",
    "            longitudes.append(location.longitude)\n",
    "        else:\n",
    "            latitudes.append(None)\n",
    "            longitudes.append(None)\n",
    "    except Exception as e:\n",
    "        print(f\"Error geocoding {county}: {e}\")\n",
    "        latitudes.append(None)\n",
    "        longitudes.append(None)\n",
    "    \n",
    "    # Be polite: Nominatim recommends 1-second delay\n",
    "    sleep(1)\n",
    "\n",
    "# Combine into a DataFrame\n",
    "df_geo = pd.DataFrame({\n",
    "    \"County\": counties,\n",
    "    \"Latitude\": latitudes,\n",
    "    \"Longitude\": longitudes\n",
    "})\n",
    "\n",
    "df_geo.shape"
   ]
  },
  {
   "cell_type": "code",
   "execution_count": 10,
   "metadata": {},
   "outputs": [],
   "source": [
    "# Fill in the missing longitude and latitude coordinates (luckily for this dataset there were only two)\n",
    "missing_coords = {\n",
    "    \"Rockbridge County\": (37.7776, -79.4308),\n",
    "    \"Lexington City\": (37.7840, -79.4428)\n",
    "}\n",
    "\n",
    "# Fill in missing manually\n",
    "for county, (lat, lon) in missing_coords.items():\n",
    "    df_geo.loc[df_geo[\"County\"] == county, \"Latitude\"] = lat\n",
    "    df_geo.loc[df_geo[\"County\"] == county, \"Longitude\"] = lon\n"
   ]
  },
  {
   "cell_type": "markdown",
   "metadata": {},
   "source": [
    "# Merge both datasets"
   ]
  },
  {
   "cell_type": "code",
   "execution_count": 11,
   "metadata": {},
   "outputs": [],
   "source": [
    "# Merge based on matching county/city names\n",
    "df_combined = pd.merge(\n",
    "    df,\n",
    "    df_geo,\n",
    "    left_on=\"Overdose Death Geography Name\",\n",
    "    right_on=\"County\",\n",
    "    how=\"left\"  # keep all rows in df, even if there's no match in df_geo\n",
    ")\n"
   ]
  },
  {
   "cell_type": "code",
   "execution_count": 12,
   "metadata": {},
   "outputs": [
    {
     "data": {
      "text/plain": [
       "(20702, 13)"
      ]
     },
     "execution_count": 12,
     "metadata": {},
     "output_type": "execute_result"
    }
   ],
   "source": [
    "df_combined.shape"
   ]
  },
  {
   "cell_type": "code",
   "execution_count": 14,
   "metadata": {},
   "outputs": [
    {
     "data": {
      "text/plain": [
       "_id                                             0\n",
       "Data Extract Date                               0\n",
       "Overdose Death Year                          5896\n",
       "Overdose Death Drug Class                       0\n",
       "Overdose Death Geography Level                  0\n",
       "Overdose Death FIPS                             0\n",
       "Overdose Death Geography Name                   0\n",
       "Overdose Death Health District                154\n",
       "Overdose Death Count                          318\n",
       "Overdose Death Rate per 100,000 Residents     384\n",
       "County                                          0\n",
       "Latitude                                      462\n",
       "Longitude                                     462\n",
       "dtype: int64"
      ]
     },
     "execution_count": 14,
     "metadata": {},
     "output_type": "execute_result"
    }
   ],
   "source": [
    "df_combined.isna().sum()"
   ]
  },
  {
   "cell_type": "code",
   "execution_count": 15,
   "metadata": {},
   "outputs": [
    {
     "data": {
      "text/plain": [
       "(20702, 10)"
      ]
     },
     "execution_count": 15,
     "metadata": {},
     "output_type": "execute_result"
    }
   ],
   "source": [
    "df_cleaned = df.drop_duplicates()\n",
    "df_cleaned.shape"
   ]
  },
  {
   "cell_type": "code",
   "execution_count": 16,
   "metadata": {},
   "outputs": [],
   "source": [
    "df_combined.to_csv('/Users/joshturner/Desktop/DrugOverdoseTDAVA/Data/VDHPUDOverdoseDeathsByYearAndGeographyLongLat.csv')\n"
   ]
  },
  {
   "cell_type": "code",
   "execution_count": 47,
   "metadata": {},
   "outputs": [
    {
     "data": {
      "text/plain": [
       "Index(['_id', 'Data Extract Date', 'Overdose Death Year',\n",
       "       'Overdose Death Drug Class', 'Overdose Death Geography Level',\n",
       "       'Overdose Death FIPS', 'Overdose Death Geography Name',\n",
       "       'Overdose Death Health District', 'Overdose Death Count',\n",
       "       'Overdose Death Rate per 100,000 Residents', 'County', 'Latitude',\n",
       "       'Longitude'],\n",
       "      dtype='object')"
      ]
     },
     "execution_count": 47,
     "metadata": {},
     "output_type": "execute_result"
    }
   ],
   "source": [
    "df_combined.columns"
   ]
  },
  {
   "cell_type": "markdown",
   "metadata": {},
   "source": [
    "# Prep for Mapper"
   ]
  },
  {
   "cell_type": "code",
   "execution_count": 293,
   "metadata": {},
   "outputs": [
    {
     "data": {
      "text/plain": [
       "_id                                          20702\n",
       "Data Extract Date                                1\n",
       "Overdose Death Year                              7\n",
       "Overdose Death Drug Class                       11\n",
       "Overdose Death Geography Level                   2\n",
       "Overdose Death FIPS                            135\n",
       "Overdose Death Geography Name                  135\n",
       "Overdose Death Health District                  36\n",
       "Overdose Death Count                           196\n",
       "Overdose Death Rate per 100,000 Residents      586\n",
       "dtype: int64"
      ]
     },
     "execution_count": 293,
     "metadata": {},
     "output_type": "execute_result"
    }
   ],
   "source": [
    "df.nunique()"
   ]
  },
  {
   "cell_type": "code",
   "execution_count": 296,
   "metadata": {},
   "outputs": [
    {
     "data": {
      "text/html": [
       "<div>\n",
       "<style scoped>\n",
       "    .dataframe tbody tr th:only-of-type {\n",
       "        vertical-align: middle;\n",
       "    }\n",
       "\n",
       "    .dataframe tbody tr th {\n",
       "        vertical-align: top;\n",
       "    }\n",
       "\n",
       "    .dataframe thead th {\n",
       "        text-align: right;\n",
       "    }\n",
       "</style>\n",
       "<table border=\"1\" class=\"dataframe\">\n",
       "  <thead>\n",
       "    <tr style=\"text-align: right;\">\n",
       "      <th></th>\n",
       "      <th>_id</th>\n",
       "      <th>Data Extract Date</th>\n",
       "      <th>Overdose Death Year</th>\n",
       "      <th>Overdose Death Drug Class</th>\n",
       "      <th>Overdose Death Geography Level</th>\n",
       "      <th>Overdose Death FIPS</th>\n",
       "      <th>Overdose Death Geography Name</th>\n",
       "      <th>Overdose Death Health District</th>\n",
       "      <th>Overdose Death Count</th>\n",
       "      <th>Overdose Death Rate per 100,000 Residents</th>\n",
       "    </tr>\n",
       "  </thead>\n",
       "  <tbody>\n",
       "    <tr>\n",
       "      <th>0</th>\n",
       "      <td>1</td>\n",
       "      <td>6/2/2025</td>\n",
       "      <td>2021</td>\n",
       "      <td>Any Opioids</td>\n",
       "      <td>Locality</td>\n",
       "      <td>51175</td>\n",
       "      <td>Southampton County</td>\n",
       "      <td>Western Tidewater</td>\n",
       "      <td>2</td>\n",
       "      <td>11.3</td>\n",
       "    </tr>\n",
       "    <tr>\n",
       "      <th>110</th>\n",
       "      <td>111</td>\n",
       "      <td>6/2/2025</td>\n",
       "      <td>2019</td>\n",
       "      <td>Cocaine</td>\n",
       "      <td>Locality</td>\n",
       "      <td>51175</td>\n",
       "      <td>Southampton County</td>\n",
       "      <td>Western Tidewater</td>\n",
       "      <td>0</td>\n",
       "      <td>0</td>\n",
       "    </tr>\n",
       "    <tr>\n",
       "      <th>142</th>\n",
       "      <td>143</td>\n",
       "      <td>6/2/2025</td>\n",
       "      <td>2023</td>\n",
       "      <td>Fentanyl and Other Synthetic Opioids</td>\n",
       "      <td>Locality</td>\n",
       "      <td>51175</td>\n",
       "      <td>Southampton County</td>\n",
       "      <td>Western Tidewater</td>\n",
       "      <td>1</td>\n",
       "      <td>5.7</td>\n",
       "    </tr>\n",
       "    <tr>\n",
       "      <th>516</th>\n",
       "      <td>517</td>\n",
       "      <td>6/2/2025</td>\n",
       "      <td>2019</td>\n",
       "      <td>Fentanyl and Other Synthetic Opioids</td>\n",
       "      <td>Locality</td>\n",
       "      <td>51175</td>\n",
       "      <td>Southampton County</td>\n",
       "      <td>Western Tidewater</td>\n",
       "      <td>1</td>\n",
       "      <td>5.7</td>\n",
       "    </tr>\n",
       "    <tr>\n",
       "      <th>613</th>\n",
       "      <td>614</td>\n",
       "      <td>6/2/2025</td>\n",
       "      <td>2020</td>\n",
       "      <td>Any Opioids</td>\n",
       "      <td>Locality</td>\n",
       "      <td>51175</td>\n",
       "      <td>Southampton County</td>\n",
       "      <td>Western Tidewater</td>\n",
       "      <td>4</td>\n",
       "      <td>22.7</td>\n",
       "    </tr>\n",
       "    <tr>\n",
       "      <th>...</th>\n",
       "      <td>...</td>\n",
       "      <td>...</td>\n",
       "      <td>...</td>\n",
       "      <td>...</td>\n",
       "      <td>...</td>\n",
       "      <td>...</td>\n",
       "      <td>...</td>\n",
       "      <td>...</td>\n",
       "      <td>...</td>\n",
       "      <td>...</td>\n",
       "    </tr>\n",
       "    <tr>\n",
       "      <th>19712</th>\n",
       "      <td>19713</td>\n",
       "      <td>6/2/2025</td>\n",
       "      <td>2019</td>\n",
       "      <td>Methadone</td>\n",
       "      <td>Locality</td>\n",
       "      <td>51175</td>\n",
       "      <td>Southampton County</td>\n",
       "      <td>Western Tidewater</td>\n",
       "      <td>0</td>\n",
       "      <td>0</td>\n",
       "    </tr>\n",
       "    <tr>\n",
       "      <th>19750</th>\n",
       "      <td>19751</td>\n",
       "      <td>6/2/2025</td>\n",
       "      <td>2022</td>\n",
       "      <td>Natural and Semi-Synthetic Opioids</td>\n",
       "      <td>Locality</td>\n",
       "      <td>51175</td>\n",
       "      <td>Southampton County</td>\n",
       "      <td>Western Tidewater</td>\n",
       "      <td>1</td>\n",
       "      <td>5.7</td>\n",
       "    </tr>\n",
       "    <tr>\n",
       "      <th>20117</th>\n",
       "      <td>20118</td>\n",
       "      <td>6/2/2025</td>\n",
       "      <td>2025†</td>\n",
       "      <td>Methadone</td>\n",
       "      <td>Locality</td>\n",
       "      <td>51175</td>\n",
       "      <td>Southampton County</td>\n",
       "      <td>Western Tidewater</td>\n",
       "      <td>0</td>\n",
       "      <td>0</td>\n",
       "    </tr>\n",
       "    <tr>\n",
       "      <th>20177</th>\n",
       "      <td>20178</td>\n",
       "      <td>6/2/2025</td>\n",
       "      <td>2021</td>\n",
       "      <td>Natural and Semi-Synthetic Opioids</td>\n",
       "      <td>Locality</td>\n",
       "      <td>51175</td>\n",
       "      <td>Southampton County</td>\n",
       "      <td>Western Tidewater</td>\n",
       "      <td>1</td>\n",
       "      <td>5.7</td>\n",
       "    </tr>\n",
       "    <tr>\n",
       "      <th>20644</th>\n",
       "      <td>20645</td>\n",
       "      <td>6/2/2025</td>\n",
       "      <td>2020</td>\n",
       "      <td>Heroin</td>\n",
       "      <td>Locality</td>\n",
       "      <td>51175</td>\n",
       "      <td>Southampton County</td>\n",
       "      <td>Western Tidewater</td>\n",
       "      <td>0</td>\n",
       "      <td>0</td>\n",
       "    </tr>\n",
       "  </tbody>\n",
       "</table>\n",
       "<p>154 rows × 10 columns</p>\n",
       "</div>"
      ],
      "text/plain": [
       "         _id Data Extract Date Overdose Death Year  \\\n",
       "0          1          6/2/2025                2021   \n",
       "110      111          6/2/2025                2019   \n",
       "142      143          6/2/2025                2023   \n",
       "516      517          6/2/2025                2019   \n",
       "613      614          6/2/2025                2020   \n",
       "...      ...               ...                 ...   \n",
       "19712  19713          6/2/2025                2019   \n",
       "19750  19751          6/2/2025                2022   \n",
       "20117  20118          6/2/2025               2025†   \n",
       "20177  20178          6/2/2025                2021   \n",
       "20644  20645          6/2/2025                2020   \n",
       "\n",
       "                  Overdose Death Drug Class Overdose Death Geography Level  \\\n",
       "0                               Any Opioids                       Locality   \n",
       "110                                 Cocaine                       Locality   \n",
       "142    Fentanyl and Other Synthetic Opioids                       Locality   \n",
       "516    Fentanyl and Other Synthetic Opioids                       Locality   \n",
       "613                             Any Opioids                       Locality   \n",
       "...                                     ...                            ...   \n",
       "19712                             Methadone                       Locality   \n",
       "19750    Natural and Semi-Synthetic Opioids                       Locality   \n",
       "20117                             Methadone                       Locality   \n",
       "20177    Natural and Semi-Synthetic Opioids                       Locality   \n",
       "20644                                Heroin                       Locality   \n",
       "\n",
       "       Overdose Death FIPS Overdose Death Geography Name  \\\n",
       "0                    51175            Southampton County   \n",
       "110                  51175            Southampton County   \n",
       "142                  51175            Southampton County   \n",
       "516                  51175            Southampton County   \n",
       "613                  51175            Southampton County   \n",
       "...                    ...                           ...   \n",
       "19712                51175            Southampton County   \n",
       "19750                51175            Southampton County   \n",
       "20117                51175            Southampton County   \n",
       "20177                51175            Southampton County   \n",
       "20644                51175            Southampton County   \n",
       "\n",
       "      Overdose Death Health District Overdose Death Count  \\\n",
       "0                  Western Tidewater                    2   \n",
       "110                Western Tidewater                    0   \n",
       "142                Western Tidewater                    1   \n",
       "516                Western Tidewater                    1   \n",
       "613                Western Tidewater                    4   \n",
       "...                              ...                  ...   \n",
       "19712              Western Tidewater                    0   \n",
       "19750              Western Tidewater                    1   \n",
       "20117              Western Tidewater                    0   \n",
       "20177              Western Tidewater                    1   \n",
       "20644              Western Tidewater                    0   \n",
       "\n",
       "      Overdose Death Rate per 100,000 Residents  \n",
       "0                                          11.3  \n",
       "110                                           0  \n",
       "142                                         5.7  \n",
       "516                                         5.7  \n",
       "613                                        22.7  \n",
       "...                                         ...  \n",
       "19712                                         0  \n",
       "19750                                       5.7  \n",
       "20117                                         0  \n",
       "20177                                       5.7  \n",
       "20644                                         0  \n",
       "\n",
       "[154 rows x 10 columns]"
      ]
     },
     "execution_count": 296,
     "metadata": {},
     "output_type": "execute_result"
    }
   ],
   "source": [
    "df[df[\"Overdose Death Geography Name\"] == df[\"Overdose Death Geography Name\"].unique().tolist()[0]]"
   ]
  },
  {
   "cell_type": "code",
   "execution_count": 321,
   "metadata": {},
   "outputs": [],
   "source": [
    "features = ['County','Overdose Death Drug Class','Overdose Death Year','Overdose Death Count', 'Latitude', 'Longitude']\n",
    "\n",
    "mapper_data = df_combined[features]"
   ]
  },
  {
   "cell_type": "code",
   "execution_count": null,
   "metadata": {},
   "outputs": [],
   "source": [
    "# Keep only digits in the Year column\n",
    "mapper_data['Overdose Death Year'] = mapper_data['Overdose Death Year'].str.extract('(\\d{4})')  # Extracts 4-digit year\n",
    "mapper_data['Overdose Death Year'] = pd.to_numeric(mapper_data['Overdose Death Year'], errors='coerce')  # Convert to numeric (int or NaN)\n",
    "# Keep only digits in the Year column\n",
    "# mapper_data['Overdose Death Count'] = mapper_data['Overdose Death Year'].str.extract('(\\d{4})')  # Extracts 4-digit year\n",
    "mapper_data['Overdose Death Count'] = pd.to_numeric(mapper_data['Overdose Death Count'], errors='coerce')  # Convert to numeric (int or NaN)\n"
   ]
  },
  {
   "cell_type": "code",
   "execution_count": null,
   "metadata": {},
   "outputs": [],
   "source": [
    "mapper_data.dropna(inplace=True)"
   ]
  },
  {
   "cell_type": "code",
   "execution_count": null,
   "metadata": {},
   "outputs": [
    {
     "data": {
      "text/plain": [
       "(20384, 6)"
      ]
     },
     "execution_count": 324,
     "metadata": {},
     "output_type": "execute_result"
    }
   ],
   "source": [
    "mapper_data.shape"
   ]
  },
  {
   "cell_type": "code",
   "execution_count": 327,
   "metadata": {},
   "outputs": [
    {
     "data": {
      "text/html": [
       "<div>\n",
       "<style scoped>\n",
       "    .dataframe tbody tr th:only-of-type {\n",
       "        vertical-align: middle;\n",
       "    }\n",
       "\n",
       "    .dataframe tbody tr th {\n",
       "        vertical-align: top;\n",
       "    }\n",
       "\n",
       "    .dataframe thead th {\n",
       "        text-align: right;\n",
       "    }\n",
       "</style>\n",
       "<table border=\"1\" class=\"dataframe\">\n",
       "  <thead>\n",
       "    <tr style=\"text-align: right;\">\n",
       "      <th></th>\n",
       "      <th>_id</th>\n",
       "      <th>Data Extract Date</th>\n",
       "      <th>Overdose Death Year</th>\n",
       "      <th>Overdose Death Drug Class</th>\n",
       "      <th>Overdose Death Geography Level</th>\n",
       "      <th>Overdose Death FIPS</th>\n",
       "      <th>Overdose Death Geography Name</th>\n",
       "      <th>Overdose Death Health District</th>\n",
       "      <th>Overdose Death Count</th>\n",
       "      <th>Overdose Death Rate per 100,000 Residents</th>\n",
       "    </tr>\n",
       "  </thead>\n",
       "  <tbody>\n",
       "    <tr>\n",
       "      <th>2</th>\n",
       "      <td>3</td>\n",
       "      <td>6/2/2025</td>\n",
       "      <td>2020</td>\n",
       "      <td>Any Opioids</td>\n",
       "      <td>Locality</td>\n",
       "      <td>51690</td>\n",
       "      <td>Martinsville City</td>\n",
       "      <td>West Piedmont</td>\n",
       "      <td>8</td>\n",
       "      <td>64.8</td>\n",
       "    </tr>\n",
       "    <tr>\n",
       "      <th>10353</th>\n",
       "      <td>10354</td>\n",
       "      <td>6/2/2025</td>\n",
       "      <td>2020</td>\n",
       "      <td>Any Opioids</td>\n",
       "      <td>Locality</td>\n",
       "      <td>51690</td>\n",
       "      <td>Martinsville City</td>\n",
       "      <td>West Piedmont</td>\n",
       "      <td>8</td>\n",
       "      <td>64.8</td>\n",
       "    </tr>\n",
       "  </tbody>\n",
       "</table>\n",
       "</div>"
      ],
      "text/plain": [
       "         _id Data Extract Date Overdose Death Year Overdose Death Drug Class  \\\n",
       "2          3          6/2/2025                2020               Any Opioids   \n",
       "10353  10354          6/2/2025                2020               Any Opioids   \n",
       "\n",
       "      Overdose Death Geography Level  Overdose Death FIPS  \\\n",
       "2                           Locality                51690   \n",
       "10353                       Locality                51690   \n",
       "\n",
       "      Overdose Death Geography Name Overdose Death Health District  \\\n",
       "2                 Martinsville City                  West Piedmont   \n",
       "10353             Martinsville City                  West Piedmont   \n",
       "\n",
       "      Overdose Death Count Overdose Death Rate per 100,000 Residents  \n",
       "2                        8                                      64.8  \n",
       "10353                    8                                      64.8  "
      ]
     },
     "execution_count": 327,
     "metadata": {},
     "output_type": "execute_result"
    }
   ],
   "source": [
    "df.iloc[[2,10353]]"
   ]
  },
  {
   "cell_type": "code",
   "execution_count": 328,
   "metadata": {},
   "outputs": [],
   "source": [
    "mapper_data = mapper_data[mapper_data['County'] != 'Virginia']"
   ]
  },
  {
   "cell_type": "code",
   "execution_count": 329,
   "metadata": {},
   "outputs": [],
   "source": [
    "mapper_data = mapper_data[mapper_data['Overdose Death Year'] == 2020]"
   ]
  },
  {
   "cell_type": "code",
   "execution_count": 330,
   "metadata": {},
   "outputs": [],
   "source": [
    "mapper_data = mapper_data[mapper_data['Overdose Death Drug Class'] == \"Any Opioids\"]"
   ]
  },
  {
   "cell_type": "code",
   "execution_count": 331,
   "metadata": {},
   "outputs": [],
   "source": [
    "mapper_data = mapper_data.drop_duplicates()"
   ]
  },
  {
   "cell_type": "code",
   "execution_count": 332,
   "metadata": {},
   "outputs": [
    {
     "name": "stdout",
     "output_type": "stream",
     "text": [
      "Total rows: 134\n",
      "Unique rows: 134\n"
     ]
    }
   ],
   "source": [
    "print(\"Total rows:\", len(mapper_data))\n",
    "print(\"Unique rows:\", len(mapper_data.drop_duplicates()))\n"
   ]
  },
  {
   "cell_type": "code",
   "execution_count": 333,
   "metadata": {},
   "outputs": [
    {
     "data": {
      "text/html": [
       "<div>\n",
       "<style scoped>\n",
       "    .dataframe tbody tr th:only-of-type {\n",
       "        vertical-align: middle;\n",
       "    }\n",
       "\n",
       "    .dataframe tbody tr th {\n",
       "        vertical-align: top;\n",
       "    }\n",
       "\n",
       "    .dataframe thead th {\n",
       "        text-align: right;\n",
       "    }\n",
       "</style>\n",
       "<table border=\"1\" class=\"dataframe\">\n",
       "  <thead>\n",
       "    <tr style=\"text-align: right;\">\n",
       "      <th></th>\n",
       "      <th>County</th>\n",
       "      <th>Overdose Death Drug Class</th>\n",
       "      <th>Overdose Death Year</th>\n",
       "      <th>Overdose Death Count</th>\n",
       "      <th>Latitude</th>\n",
       "      <th>Longitude</th>\n",
       "    </tr>\n",
       "  </thead>\n",
       "  <tbody>\n",
       "  </tbody>\n",
       "</table>\n",
       "</div>"
      ],
      "text/plain": [
       "Empty DataFrame\n",
       "Columns: [County, Overdose Death Drug Class, Overdose Death Year, Overdose Death Count, Latitude, Longitude]\n",
       "Index: []"
      ]
     },
     "execution_count": 333,
     "metadata": {},
     "output_type": "execute_result"
    }
   ],
   "source": [
    "mapper_data[mapper_data.duplicated(keep=False)]\n"
   ]
  },
  {
   "cell_type": "markdown",
   "metadata": {},
   "source": [
    "# Drug Overdoses By Count (Begin)"
   ]
  },
  {
   "cell_type": "code",
   "execution_count": null,
   "metadata": {},
   "outputs": [],
   "source": [
    "import kmapper as km\n",
    "from sklearn.preprocessing import StandardScaler\n",
    "from sklearn.cluster import DBSCAN\n",
    "import sklearn\n",
    "import pandas as pd\n",
    "from sklearn import ensemble\n",
    "from kmapper.plotlyviz import *\n",
    "import matplotlib.pyplot as plt\n",
    "import plotly.graph_objs as go\n",
    "from ipywidgets import (HBox, VBox)\n",
    "\n",
    "# Step 1: Select and standardize your features\n",
    "map_features = ['Latitude', 'Longitude','Overdose Death Count']\n",
    "\n",
    "\n",
    "# Calculate the mean\n",
    "mean_value = mapper_data['Overdose Death Count'].mean()\n",
    "# Create a new binary column\n",
    "mapper_data['Overdose Binary'] = (mapper_data['Overdose Death Count'] > mean_value).astype(int)\n",
    "# Optional: label as 'low'/'high' instead of 0/1\n",
    "mapper_data['Overdose Level'] = mapper_data['Overdose Binary'].map({0: 'low', 1: 'high'})\n",
    "\n",
    "X = np.array(mapper_data[map_features])\n",
    "y = np.array(mapper_data['Overdose Level'])\n",
    "# Isolation Forest for lens1\n",
    "model = ensemble.IsolationForest(random_state=1729)\n",
    "model.fit(X)\n",
    "lens1 = model.decision_function(X).reshape((X.shape[0],1))\n",
    "\n",
    "\n",
    "\n",
    "#X_scaled = StandardScaler().fit_transform(X)\n",
    "\n",
    "# Step 2: Define a lens function (1D)\n",
    "# lens = mapper_data['Overdose Death Year'].values.reshape(-1, 1)  # <- Optional but useful as a lens\n",
    "\n",
    "# Optional: Standardize the lens too (depends on whether year differences are meaningful)\n",
    "# from sklearn.preprocessing import MinMaxScaler\n",
    "# lens_scaled = MinMaxScaler().fit_transform(lens)\n",
    "\n",
    "# Step 3: Initialize Mapper object\n",
    "mapper = km.KeplerMapper(verbose=0)\n",
    "# l2 norm for lens2\n",
    "lens2 = mapper.fit_transform(X,projection=\"l2norm\")\n",
    "lens = np.c_[lens1,lens2]\n",
    "# Step 4: Fit the data using the lens\n",
    "scomplex = mapper.map(\n",
    "    lens,\n",
    "    # lens_scaled,              # <- this is the lens\n",
    "    X,                 # <- this is the data\n",
    "    cover=km.Cover(n_cubes=5, perc_overlap=0.1),\n",
    "   #clusterer=DBSCAN(eps=0.5, min_samples=3))\n",
    "   clusterer=sklearn.cluster.KMeans(n_clusters=2,\n",
    "                                     random_state=3471))\n",
    "\n",
    "#tooltips = np.array(mapper_data[\"County\"].tolist()) # Format counties)\n",
    "\n",
    "# Step 5: Visualize\n",
    "#mapper.visualize(\n",
    "#    graph,\n",
    "#    path_html=\"mapper_overdose_2lens.html\",\n",
    "#    title=\"TDA Mapper: Overdose Patterns by County and Year\",\n",
    "#    custom_tooltips=tooltips  # Optional, for hover info\n",
    "#)\n"
   ]
  },
  {
   "cell_type": "code",
   "execution_count": 351,
   "metadata": {},
   "outputs": [],
   "source": [
    "global_mean_deaths = mapper_data['Overdose Death Count'].mean()\n"
   ]
  },
  {
   "cell_type": "code",
   "execution_count": 352,
   "metadata": {},
   "outputs": [
    {
     "data": {
      "text/plain": [
       "np.float64(13.992537313432836)"
      ]
     },
     "execution_count": 352,
     "metadata": {},
     "output_type": "execute_result"
    }
   ],
   "source": [
    "global_mean_deaths"
   ]
  },
  {
   "cell_type": "code",
   "execution_count": 353,
   "metadata": {},
   "outputs": [],
   "source": [
    "pl_brewer = [[0.0, '#006837'],\n",
    "             [0.1, '#1a9850'],\n",
    "             [0.2, '#66bd63'],\n",
    "             [0.3, '#a6d96a'],\n",
    "             [0.4, '#d9ef8b'],\n",
    "             [0.5, '#ffffbf'],\n",
    "             [0.6, '#fee08b'],\n",
    "             [0.7, '#fdae61'],\n",
    "             [0.8, '#f46d43'],\n",
    "             [0.9, '#d73027'],\n",
    "             [1.0, '#a50026']]\n"
   ]
  },
  {
   "cell_type": "code",
   "execution_count": 354,
   "metadata": {},
   "outputs": [],
   "source": [
    "custom_tooltips = []\n",
    "\n",
    "for i, row in mapper_data.iterrows():\n",
    "    county = row[\"County\"]\n",
    "    death = row[\"Overdose Death Count\"]\n",
    "    level = \"High\" if death > global_mean_deaths else \"Low\"\n",
    "    \n",
    "    tooltip_text = (\n",
    "        f\"<b>Death Count:</b> {death}<br>\"\n",
    "        f\"<b>Level:</b> {level}<br>\"\n",
    "        f\"<b>County:</b> {county}\"\n",
    "    )\n",
    "    \n",
    "    custom_tooltips.append(tooltip_text)\n",
    "custom_tooltips = np.array(custom_tooltips)"
   ]
  },
  {
   "cell_type": "code",
   "execution_count": 355,
   "metadata": {},
   "outputs": [],
   "source": [
    "color_values = mapper_data['Overdose Death Count'].values  # per data point\n",
    "#my_colorscale = 'plasma'\n",
    "import plotly.colors as pc\n",
    "\n",
    "my_colorscale = pc.sequential.Plasma  # ← this is valid\n",
    "\n",
    "kmgraph, mapper_summary, colorf_distribution = get_mapper_graph(\n",
    "    scomplex,\n",
    "    color_values=color_values,\n",
    "    color_function_name=\"Average Overdose Deaths\",\n",
    "    colorscale=pl_brewer,\n",
    "    custom_tooltips=custom_tooltips  # ← this is key\n",
    ")\n"
   ]
  },
  {
   "cell_type": "code",
   "execution_count": 357,
   "metadata": {},
   "outputs": [
    {
     "data": {
      "text/plain": [
       "'<!DOCTYPE html>\\n<html>\\n\\n<head>\\n  <meta charset=\"utf-8\">\\n  <meta name=\"generator\" content=\"KeplerMapper\">\\n  <title>Overdose Deaths By Opioids Mapper 2020 | KeplerMapper</title>\\n\\n  <link rel=\"icon\" type=\"image/png\" href=\"http://i.imgur.com/axOG6GJ.jpg\" />\\n\\n  <link href=\\'https://fonts.googleapis.com/css?family=Roboto+Mono:700,300\\' rel=\\'stylesheet\\' type=\\'text/css\\'>\\n  <style>* {\\n  margin: 0;\\n  padding: 0;\\n}\\n\\nhtml, body {\\n  height: 100%;\\n}\\n\\nbody {\\n  font-family: \"Roboto Mono\", \"Helvetica\", sans-serif;\\n  font-size: 14px;\\n}\\n\\n#logo {\\n  width:  85px;\\n  height: 85px;\\n}\\n\\n#display {\\n  color: #95A5A6;\\n  background: #212121;\\n}\\n\\n#header {\\n  background: #111111;\\n}\\n\\n#print {\\n  color: #000;\\n  background: #FFF;\\n}\\n\\nh1 {\\n  font-size: 21px;\\n  font-weight: 300;\\n  font-weight: 300;\\n}\\n\\nh2 {\\n  font-size: 18px;\\n  padding-bottom: 20px;\\n  font-weight: 300;\\n}\\n\\nh3 {\\n  font-size: 14px;\\n  font-weight: 700;\\n  text-transform: uppercase;\\n}\\n\\nh4 {\\n  font-size: 13px;\\n  font-weight: 700;\\n  text-transform: uppercase;\\n  padding-bottom:0px;\\n}\\n\\n\\n#meta_content h3 {\\n  float: left;\\n  padding-right: 8px;\\n}\\n\\np, #tooltip_content h3, ol, ul, table {\\n  padding-bottom: 10px;\\n}\\n\\nol, ul {\\n  padding-left: 20px;\\n}\\n\\nol b {\\n  display: block;\\n}\\n\\na {\\n  color: #16a085;\\n  text-decoration: none;\\n}\\n\\n.pane {\\n  position: relative;\\n}\\n\\n.pane-left {\\n  float: left;\\n}\\n\\n.pane-right {\\n  float: right;\\n}\\n\\na:hover {\\n  color: #2ecc71;\\n}\\n\\n.banner {\\n  /* height: 35px; */\\n  padding: 10px 0px;\\n}\\n\\n\\n#print #header {\\n  background: #FFF;\\n}\\n\\n\\n#canvas {\\n  width: 100%;\\n}\\n\\n#svg {\\n  position: absolute;\\n}\\n\\n#toolbar {\\n  padding-top: 5px;\\n  margin-bottom: 5px;\\n  width: 100%;\\n}\\n\\n#display #toolbar {\\n}\\n\\n#display .banner {\\n  border-top: 1px solid #000;\\n}\\n\\n.inline-block {\\n  display: inline-block;\\n}\\n\\n.tool_item {\\n  padding-left: 10px;\\n  padding-right: 10px;\\n}\\n\\n.pane_content {\\n  width: 300px;\\n  height:100%;\\n  padding: 20px;\\n  overflow: auto;\\n  display: none;\\n}\\n\\n.pane {\\n  z-index: 1;\\n}\\n\\n#display .pane_content {\\n  background: #191919;\\n}\\n\\n#print .pane_content{\\n  background: #FFF;\\n}\\n\\n#meta_content::-webkit-scrollbar, #tooltip_content::-webkit-scrollbar {\\n  width: 1em;\\n}\\n\\n#meta_content::-webkit-scrollbar-track, #tooltip_content::-webkit-scrollbar-track {\\n  -webkit-box-shadow: inset 0 0 6px rgba(0, 0, 0, 0.3);\\n}\\n\\n#meta_content::-webkit-scrollbar-thumb, #tooltip_content::-webkit-scrollbar-thumb {\\n  background-color: darkgrey;\\n  outline: 1px solid slategrey;\\n}\\n\\n.histogram {\\n  display: block;\\n  height: 100px;\\n  padding-top: 50px;\\n  clear: both;\\n}\\n\\n#display .histogram {\\n  opacity: 0.68;\\n}\\n\\n.bin {\\n  width: 10%;\\n  float: left;\\n}\\n\\n.bin div {\\n  font-size: 10px;\\n  display: block;\\n  width: 35px;\\n  margin-top: -30px;\\n  text-align: right;\\n  margin-left: -3px;\\n  -webkit-transform: rotate(-90deg);\\n  -moz-transform: rotate(-90deg);\\n  -ms-transform: rotate(-90deg);\\n  -o-transform: rotate(-90deg);\\n}\\n\\n.histogram:hover {\\n  opacity: 1.;\\n}\\n\\n#display .circle {\\n  stroke-opacity: 0.18;\\n  stroke-width: 7px;\\n  stroke: #000;\\n}\\n\\n#print .circle {\\n  stroke-opacity: 1;\\n  stroke-width: 2px;\\n  stroke: #000;\\n  stroke-linecap: round;\\n}\\n\\n#print .link {\\n  stroke: #000;\\n}\\n\\n#display .link {\\n  stroke: rgba(160, 160, 160, 0.5);\\n}\\n\\ntable {\\n  border-collapse: collapse;\\n  display: table;\\n  width: 100%;\\n  margin-bottom: 20px;\\n}\\n\\ntd, th {\\n  padding: 5px;\\n  text-align: left;\\n}\\n\\n#display th {\\n  background: #212121\\n}\\n\\ntd {\\n  border-bottom: 1px solid #111;\\n}\\n\\n.highlight {\\n  filter: url(#drop-shadow-pulse);\\n}\\n\\n.control-row {\\n  padding: 5px 0px;\\n}\\n\\n.btn {\\n  display: inline-block;\\n  padding: 0.35em 1.2em;\\n  border: 0.1em solid #FFFFFF;\\n  margin: 0 0.3em 0.3em 0;\\n  border-radius: 0.12em;\\n  box-sizing: border-box;\\n  text-decoration: none;\\n  background-color: transparent;\\n  font-weight: 300;\\n  color: #FFFFFF;\\n  text-align: center;\\n  transition: all 0.2s;\\n}\\n\\n.btn:hover {\\n  color: #000000;\\n  background-color: #FFFFFF;\\n}\\n\\n.btn:disabled {\\n  color: #FFFFFF;\\n  opacity: .35;\\n}\\n\\n#print .btn {\\n  color: #000;\\n  border-color: #000\\n}\\n\\n#print .btn:hover {\\n  color: #FFFFFF;\\n  background-color: #000000\\n}\\n\\n#print .btn:disabled {}\\n\\n#toolbar .btn {\\n  padding: 0 1.2em;\\n}\\n\\nlabel {\\n  display: inline-block;\\n  margin-bottom: .5rem;\\n}\\n\\n#config-file-loader {\\n  margin-bottom: .5em;\\n}\\n\\n.btn:not(:disabled):not(.disabled) {\\n    cursor: pointer;\\n}\\n\\n.wrap {\\n  display: flex;\\n}\\n\\n.wrap-header div:last-child {\\n  margin-left: auto;\\n}\\n\\n.wrap-end {\\n  justify-content: flex-end;\\n}\\n\\n.wrap-logo {\\n  display: flex;\\n  justify-content: center;\\n  align-items: center;\\n}\\n\\n.wrap-logo .logo {\\n  margin: auto;\\n}\\n\\n.wrap-header {\\n  /* padding: 5px 10px; */\\n  padding: 5px 5px 5px 10px;\\n  justify-content: space-between;\\n}\\n\\n#display .wrap-header {\\n  box-shadow: 0px 0px 4px #000;\\n}\\n\\n.toolbar-container {\\n  margin-left: -10px;\\n}\\n</style>\\n\\n</head>\\n\\n<body id=\"display\">\\n\\n  <!-- Variables used later -->\\n  <script>\\n    const graph = {\"links\": [{\"source\": 3, \"target\": 9, \"width\": 1}, {\"source\": 4, \"target\": 10, \"width\": 1}, {\"source\": 5, \"target\": 11, \"width\": 1}, {\"source\": 8, \"target\": 11, \"width\": 1}, {\"source\": 8, \"target\": 12, \"width\": 1}, {\"source\": 12, \"target\": 15, \"width\": 1}, {\"source\": 13, \"target\": 14, \"width\": 1}, {\"source\": 13, \"target\": 15, \"width\": 1}], \"nodes\": [{\"color\": [[0.753731343283582]], \"id\": \"\", \"name\": \"cube1_cluster0\", \"size\": 1, \"tooltip\": {\"cluster_stats\": {\"above\": [], \"below\": [], \"size\": 1}, \"custom_tooltips\": [\"\\\\u003cb\\\\u003eDeath Count:\\\\u003c/b\\\\u003e 101.0\\\\u003cbr\\\\u003e\\\\u003cb\\\\u003eLevel:\\\\u003c/b\\\\u003e High\\\\u003cbr\\\\u003e\\\\u003cb\\\\u003eCounty:\\\\u003c/b\\\\u003e Virginia Beach City\"], \"dist_label\": \"Member\", \"histogram\": [[{\"color\": \"rgb(13, 128, 67)\", \"height\": 0.0, \"perc\": 0.0}, {\"color\": \"rgb(64, 170, 89)\", \"height\": 0.0, \"perc\": 0.0}, {\"color\": \"rgb(134, 203, 102)\", \"height\": 0.0, \"perc\": 0.0}, {\"color\": \"rgb(191, 228, 122)\", \"height\": 0.0, \"perc\": 0.0}, {\"color\": \"rgb(236, 247, 164)\", \"height\": 0.0, \"perc\": 0.0}, {\"color\": \"rgb(254, 239, 164)\", \"height\": 0.0, \"perc\": 0.0}, {\"color\": \"rgb(253, 198, 117)\", \"height\": 0.0, \"perc\": 0.0}, {\"color\": \"rgb(248, 141, 81)\", \"height\": 100.0, \"perc\": 100.0}, {\"color\": \"rgb(229, 78, 52)\", \"height\": 0.0, \"perc\": 0.0}, {\"color\": \"rgb(190, 24, 38)\", \"height\": 0.0, \"perc\": 0.0}]], \"node_id\": \"cube1_cluster0\", \"projection_stats\": []}, \"type\": \"circle\"}, {\"color\": [[0.7313432835820896]], \"id\": \"\", \"name\": \"cube1_cluster1\", \"size\": 1, \"tooltip\": {\"cluster_stats\": {\"above\": [], \"below\": [], \"size\": 1}, \"custom_tooltips\": [\"\\\\u003cb\\\\u003eDeath Count:\\\\u003c/b\\\\u003e 98.0\\\\u003cbr\\\\u003e\\\\u003cb\\\\u003eLevel:\\\\u003c/b\\\\u003e High\\\\u003cbr\\\\u003e\\\\u003cb\\\\u003eCounty:\\\\u003c/b\\\\u003e Prince William County\"], \"dist_label\": \"Member\", \"histogram\": [[{\"color\": \"rgb(13, 128, 67)\", \"height\": 0.0, \"perc\": 0.0}, {\"color\": \"rgb(64, 170, 89)\", \"height\": 0.0, \"perc\": 0.0}, {\"color\": \"rgb(134, 203, 102)\", \"height\": 0.0, \"perc\": 0.0}, {\"color\": \"rgb(191, 228, 122)\", \"height\": 0.0, \"perc\": 0.0}, {\"color\": \"rgb(236, 247, 164)\", \"height\": 0.0, \"perc\": 0.0}, {\"color\": \"rgb(254, 239, 164)\", \"height\": 0.0, \"perc\": 0.0}, {\"color\": \"rgb(253, 198, 117)\", \"height\": 0.0, \"perc\": 0.0}, {\"color\": \"rgb(248, 141, 81)\", \"height\": 100.0, \"perc\": 100.0}, {\"color\": \"rgb(229, 78, 52)\", \"height\": 0.0, \"perc\": 0.0}, {\"color\": \"rgb(190, 24, 38)\", \"height\": 0.0, \"perc\": 0.0}]], \"node_id\": \"cube1_cluster1\", \"projection_stats\": []}, \"type\": \"circle\"}, {\"color\": [[0.1791044776119403]], \"id\": \"\", \"name\": \"cube3_cluster0\", \"size\": 1, \"tooltip\": {\"cluster_stats\": {\"above\": [], \"below\": [], \"size\": 1}, \"custom_tooltips\": [\"\\\\u003cb\\\\u003eDeath Count:\\\\u003c/b\\\\u003e 24.0\\\\u003cbr\\\\u003e\\\\u003cb\\\\u003eLevel:\\\\u003c/b\\\\u003e High\\\\u003cbr\\\\u003e\\\\u003cb\\\\u003eCounty:\\\\u003c/b\\\\u003e Frederick County\"], \"dist_label\": \"Member\", \"histogram\": [[{\"color\": \"rgb(13, 128, 67)\", \"height\": 0.0, \"perc\": 0.0}, {\"color\": \"rgb(64, 170, 89)\", \"height\": 100.0, \"perc\": 100.0}, {\"color\": \"rgb(134, 203, 102)\", \"height\": 0.0, \"perc\": 0.0}, {\"color\": \"rgb(191, 228, 122)\", \"height\": 0.0, \"perc\": 0.0}, {\"color\": \"rgb(236, 247, 164)\", \"height\": 0.0, \"perc\": 0.0}, {\"color\": \"rgb(254, 239, 164)\", \"height\": 0.0, \"perc\": 0.0}, {\"color\": \"rgb(253, 198, 117)\", \"height\": 0.0, \"perc\": 0.0}, {\"color\": \"rgb(248, 141, 81)\", \"height\": 0.0, \"perc\": 0.0}, {\"color\": \"rgb(229, 78, 52)\", \"height\": 0.0, \"perc\": 0.0}, {\"color\": \"rgb(190, 24, 38)\", \"height\": 0.0, \"perc\": 0.0}]], \"node_id\": \"cube3_cluster0\", \"projection_stats\": []}, \"type\": \"circle\"}, {\"color\": [[0.03731343283582089]], \"id\": \"\", \"name\": \"cube3_cluster1\", \"size\": 1, \"tooltip\": {\"cluster_stats\": {\"above\": [], \"below\": [], \"size\": 1}, \"custom_tooltips\": [\"\\\\u003cb\\\\u003eDeath Count:\\\\u003c/b\\\\u003e 5.0\\\\u003cbr\\\\u003e\\\\u003cb\\\\u003eLevel:\\\\u003c/b\\\\u003e Low\\\\u003cbr\\\\u003e\\\\u003cb\\\\u003eCounty:\\\\u003c/b\\\\u003e Lee County\"], \"dist_label\": \"Member\", \"histogram\": [[{\"color\": \"rgb(13, 128, 67)\", \"height\": 100.0, \"perc\": 100.0}, {\"color\": \"rgb(64, 170, 89)\", \"height\": 0.0, \"perc\": 0.0}, {\"color\": \"rgb(134, 203, 102)\", \"height\": 0.0, \"perc\": 0.0}, {\"color\": \"rgb(191, 228, 122)\", \"height\": 0.0, \"perc\": 0.0}, {\"color\": \"rgb(236, 247, 164)\", \"height\": 0.0, \"perc\": 0.0}, {\"color\": \"rgb(254, 239, 164)\", \"height\": 0.0, \"perc\": 0.0}, {\"color\": \"rgb(253, 198, 117)\", \"height\": 0.0, \"perc\": 0.0}, {\"color\": \"rgb(248, 141, 81)\", \"height\": 0.0, \"perc\": 0.0}, {\"color\": \"rgb(229, 78, 52)\", \"height\": 0.0, \"perc\": 0.0}, {\"color\": \"rgb(190, 24, 38)\", \"height\": 0.0, \"perc\": 0.0}]], \"node_id\": \"cube3_cluster1\", \"projection_stats\": []}, \"type\": \"circle\"}, {\"color\": [[0.5074626865671642]], \"id\": \"\", \"name\": \"cube4_cluster0\", \"size\": 2, \"tooltip\": {\"cluster_stats\": {\"above\": [], \"below\": [], \"size\": 2}, \"custom_tooltips\": [\"\\\\u003cb\\\\u003eDeath Count:\\\\u003c/b\\\\u003e 65.0\\\\u003cbr\\\\u003e\\\\u003cb\\\\u003eLevel:\\\\u003c/b\\\\u003e High\\\\u003cbr\\\\u003e\\\\u003cb\\\\u003eCounty:\\\\u003c/b\\\\u003e Roanoke City\", \"\\\\u003cb\\\\u003eDeath Count:\\\\u003c/b\\\\u003e 71.0\\\\u003cbr\\\\u003e\\\\u003cb\\\\u003eLevel:\\\\u003c/b\\\\u003e High\\\\u003cbr\\\\u003e\\\\u003cb\\\\u003eCounty:\\\\u003c/b\\\\u003e Norfolk City\"], \"dist_label\": \"Member\", \"histogram\": [[{\"color\": \"rgb(13, 128, 67)\", \"height\": 0.0, \"perc\": 0.0}, {\"color\": \"rgb(64, 170, 89)\", \"height\": 0.0, \"perc\": 0.0}, {\"color\": \"rgb(134, 203, 102)\", \"height\": 0.0, \"perc\": 0.0}, {\"color\": \"rgb(191, 228, 122)\", \"height\": 0.0, \"perc\": 0.0}, {\"color\": \"rgb(236, 247, 164)\", \"height\": 100.0, \"perc\": 50.0}, {\"color\": \"rgb(254, 239, 164)\", \"height\": 100.0, \"perc\": 50.0}, {\"color\": \"rgb(253, 198, 117)\", \"height\": 0.0, \"perc\": 0.0}, {\"color\": \"rgb(248, 141, 81)\", \"height\": 0.0, \"perc\": 0.0}, {\"color\": \"rgb(229, 78, 52)\", \"height\": 0.0, \"perc\": 0.0}, {\"color\": \"rgb(190, 24, 38)\", \"height\": 0.0, \"perc\": 0.0}]], \"node_id\": \"cube4_cluster0\", \"projection_stats\": []}, \"type\": \"circle\"}, {\"color\": [[0.3880597014925373]], \"id\": \"\", \"name\": \"cube4_cluster1\", \"size\": 1, \"tooltip\": {\"cluster_stats\": {\"above\": [], \"below\": [], \"size\": 1}, \"custom_tooltips\": [\"\\\\u003cb\\\\u003eDeath Count:\\\\u003c/b\\\\u003e 52.0\\\\u003cbr\\\\u003e\\\\u003cb\\\\u003eLevel:\\\\u003c/b\\\\u003e High\\\\u003cbr\\\\u003e\\\\u003cb\\\\u003eCounty:\\\\u003c/b\\\\u003e Spotsylvania County\"], \"dist_label\": \"Member\", \"histogram\": [[{\"color\": \"rgb(13, 128, 67)\", \"height\": 0.0, \"perc\": 0.0}, {\"color\": \"rgb(64, 170, 89)\", \"height\": 0.0, \"perc\": 0.0}, {\"color\": \"rgb(134, 203, 102)\", \"height\": 0.0, \"perc\": 0.0}, {\"color\": \"rgb(191, 228, 122)\", \"height\": 100.0, \"perc\": 100.0}, {\"color\": \"rgb(236, 247, 164)\", \"height\": 0.0, \"perc\": 0.0}, {\"color\": \"rgb(254, 239, 164)\", \"height\": 0.0, \"perc\": 0.0}, {\"color\": \"rgb(253, 198, 117)\", \"height\": 0.0, \"perc\": 0.0}, {\"color\": \"rgb(248, 141, 81)\", \"height\": 0.0, \"perc\": 0.0}, {\"color\": \"rgb(229, 78, 52)\", \"height\": 0.0, \"perc\": 0.0}, {\"color\": \"rgb(190, 24, 38)\", \"height\": 0.0, \"perc\": 0.0}]], \"node_id\": \"cube4_cluster1\", \"projection_stats\": []}, \"type\": \"circle\"}, {\"color\": [[0.5970149253731343]], \"id\": \"\", \"name\": \"cube5_cluster0\", \"size\": 1, \"tooltip\": {\"cluster_stats\": {\"above\": [], \"below\": [], \"size\": 1}, \"custom_tooltips\": [\"\\\\u003cb\\\\u003eDeath Count:\\\\u003c/b\\\\u003e 80.0\\\\u003cbr\\\\u003e\\\\u003cb\\\\u003eLevel:\\\\u003c/b\\\\u003e High\\\\u003cbr\\\\u003e\\\\u003cb\\\\u003eCounty:\\\\u003c/b\\\\u003e Fairfax County\"], \"dist_label\": \"Member\", \"histogram\": [[{\"color\": \"rgb(13, 128, 67)\", \"height\": 0.0, \"perc\": 0.0}, {\"color\": \"rgb(64, 170, 89)\", \"height\": 0.0, \"perc\": 0.0}, {\"color\": \"rgb(134, 203, 102)\", \"height\": 0.0, \"perc\": 0.0}, {\"color\": \"rgb(191, 228, 122)\", \"height\": 0.0, \"perc\": 0.0}, {\"color\": \"rgb(236, 247, 164)\", \"height\": 0.0, \"perc\": 0.0}, {\"color\": \"rgb(254, 239, 164)\", \"height\": 100.0, \"perc\": 100.0}, {\"color\": \"rgb(253, 198, 117)\", \"height\": 0.0, \"perc\": 0.0}, {\"color\": \"rgb(248, 141, 81)\", \"height\": 0.0, \"perc\": 0.0}, {\"color\": \"rgb(229, 78, 52)\", \"height\": 0.0, \"perc\": 0.0}, {\"color\": \"rgb(190, 24, 38)\", \"height\": 0.0, \"perc\": 0.0}]], \"node_id\": \"cube5_cluster0\", \"projection_stats\": []}, \"type\": \"circle\"}, {\"color\": [[0.6119402985074627]], \"id\": \"\", \"name\": \"cube5_cluster1\", \"size\": 1, \"tooltip\": {\"cluster_stats\": {\"above\": [], \"below\": [], \"size\": 1}, \"custom_tooltips\": [\"\\\\u003cb\\\\u003eDeath Count:\\\\u003c/b\\\\u003e 82.0\\\\u003cbr\\\\u003e\\\\u003cb\\\\u003eLevel:\\\\u003c/b\\\\u003e High\\\\u003cbr\\\\u003e\\\\u003cb\\\\u003eCounty:\\\\u003c/b\\\\u003e Henrico County\"], \"dist_label\": \"Member\", \"histogram\": [[{\"color\": \"rgb(13, 128, 67)\", \"height\": 0.0, \"perc\": 0.0}, {\"color\": \"rgb(64, 170, 89)\", \"height\": 0.0, \"perc\": 0.0}, {\"color\": \"rgb(134, 203, 102)\", \"height\": 0.0, \"perc\": 0.0}, {\"color\": \"rgb(191, 228, 122)\", \"height\": 0.0, \"perc\": 0.0}, {\"color\": \"rgb(236, 247, 164)\", \"height\": 0.0, \"perc\": 0.0}, {\"color\": \"rgb(254, 239, 164)\", \"height\": 0.0, \"perc\": 0.0}, {\"color\": \"rgb(253, 198, 117)\", \"height\": 100.0, \"perc\": 100.0}, {\"color\": \"rgb(248, 141, 81)\", \"height\": 0.0, \"perc\": 0.0}, {\"color\": \"rgb(229, 78, 52)\", \"height\": 0.0, \"perc\": 0.0}, {\"color\": \"rgb(190, 24, 38)\", \"height\": 0.0, \"perc\": 0.0}]], \"node_id\": \"cube5_cluster1\", \"projection_stats\": []}, \"type\": \"circle\"}, {\"color\": [[0.23208955223880595]], \"id\": \"\", \"name\": \"cube7_cluster0\", \"size\": 3, \"tooltip\": {\"cluster_stats\": {\"above\": [], \"below\": [], \"size\": 10}, \"custom_tooltips\": [\"\\\\u003cb\\\\u003eDeath Count:\\\\u003c/b\\\\u003e 23.0\\\\u003cbr\\\\u003e\\\\u003cb\\\\u003eLevel:\\\\u003c/b\\\\u003e High\\\\u003cbr\\\\u003e\\\\u003cb\\\\u003eCounty:\\\\u003c/b\\\\u003e Suffolk City\", \"\\\\u003cb\\\\u003eDeath Count:\\\\u003c/b\\\\u003e 35.0\\\\u003cbr\\\\u003e\\\\u003cb\\\\u003eLevel:\\\\u003c/b\\\\u003e High\\\\u003cbr\\\\u003e\\\\u003cb\\\\u003eCounty:\\\\u003c/b\\\\u003e Stafford County\", \"\\\\u003cb\\\\u003eDeath Count:\\\\u003c/b\\\\u003e 30.0\\\\u003cbr\\\\u003e\\\\u003cb\\\\u003eLevel:\\\\u003c/b\\\\u003e High\\\\u003cbr\\\\u003e\\\\u003cb\\\\u003eCounty:\\\\u003c/b\\\\u003e Loudoun County\", \"\\\\u003cb\\\\u003eDeath Count:\\\\u003c/b\\\\u003e 21.0\\\\u003cbr\\\\u003e\\\\u003cb\\\\u003eLevel:\\\\u003c/b\\\\u003e High\\\\u003cbr\\\\u003e\\\\u003cb\\\\u003eCounty:\\\\u003c/b\\\\u003e Warren County\", \"\\\\u003cb\\\\u003eDeath Count:\\\\u003c/b\\\\u003e 36.0\\\\u003cbr\\\\u003e\\\\u003cb\\\\u003eLevel:\\\\u003c/b\\\\u003e High\\\\u003cbr\\\\u003e\\\\u003cb\\\\u003eCounty:\\\\u003c/b\\\\u003e Hampton City\", \"\\\\u003cb\\\\u003eDeath Count:\\\\u003c/b\\\\u003e 41.0\\\\u003cbr\\\\u003e\\\\u003cb\\\\u003eLevel:\\\\u003c/b\\\\u003e High\\\\u003cbr\\\\u003e\\\\u003cb\\\\u003eCounty:\\\\u003c/b\\\\u003e Portsmouth City\", \"\\\\u003cb\\\\u003eDeath Count:\\\\u003c/b\\\\u003e 52.0\\\\u003cbr\\\\u003e\\\\u003cb\\\\u003eLevel:\\\\u003c/b\\\\u003e High\\\\u003cbr\\\\u003e\\\\u003cb\\\\u003eCounty:\\\\u003c/b\\\\u003e Chesapeake City\", \"\\\\u003cb\\\\u003eDeath Count:\\\\u003c/b\\\\u003e 26.0\\\\u003cbr\\\\u003e\\\\u003cb\\\\u003eLevel:\\\\u003c/b\\\\u003e High\\\\u003cbr\\\\u003e\\\\u003cb\\\\u003eCounty:\\\\u003c/b\\\\u003e Arlington County\", \"\\\\u003cb\\\\u003eDeath Count:\\\\u003c/b\\\\u003e 28.0\\\\u003cbr\\\\u003e\\\\u003cb\\\\u003eLevel:\\\\u003c/b\\\\u003e High\\\\u003cbr\\\\u003e\\\\u003cb\\\\u003eCounty:\\\\u003c/b\\\\u003e Henry County\", \"\\\\u003cb\\\\u003eDeath Count:\\\\u003c/b\\\\u003e 19.0\\\\u003cbr\\\\u003e\\\\u003cb\\\\u003eLevel:\\\\u003c/b\\\\u003e High\\\\u003cbr\\\\u003e\\\\u003cb\\\\u003eCounty:\\\\u003c/b\\\\u003e Tazewell County\"], \"dist_label\": \"Member\", \"histogram\": [[{\"color\": \"rgb(13, 128, 67)\", \"height\": 0.0, \"perc\": 0.0}, {\"color\": \"rgb(64, 170, 89)\", \"height\": 100.0, \"perc\": 40.0}, {\"color\": \"rgb(134, 203, 102)\", \"height\": 100.0, \"perc\": 40.0}, {\"color\": \"rgb(191, 228, 122)\", \"height\": 50.0, \"perc\": 20.0}, {\"color\": \"rgb(236, 247, 164)\", \"height\": 0.0, \"perc\": 0.0}, {\"color\": \"rgb(254, 239, 164)\", \"height\": 0.0, \"perc\": 0.0}, {\"color\": \"rgb(253, 198, 117)\", \"height\": 0.0, \"perc\": 0.0}, {\"color\": \"rgb(248, 141, 81)\", \"height\": 0.0, \"perc\": 0.0}, {\"color\": \"rgb(229, 78, 52)\", \"height\": 0.0, \"perc\": 0.0}, {\"color\": \"rgb(190, 24, 38)\", \"height\": 0.0, \"perc\": 0.0}]], \"node_id\": \"cube7_cluster0\", \"projection_stats\": []}, \"type\": \"circle\"}, {\"color\": [[0.03233830845771144]], \"id\": \"\", \"name\": \"cube7_cluster1\", \"size\": 3, \"tooltip\": {\"cluster_stats\": {\"above\": [], \"below\": [], \"size\": 9}, \"custom_tooltips\": [\"\\\\u003cb\\\\u003eDeath Count:\\\\u003c/b\\\\u003e 9.0\\\\u003cbr\\\\u003e\\\\u003cb\\\\u003eLevel:\\\\u003c/b\\\\u003e Low\\\\u003cbr\\\\u003e\\\\u003cb\\\\u003eCounty:\\\\u003c/b\\\\u003e Wise County\", \"\\\\u003cb\\\\u003eDeath Count:\\\\u003c/b\\\\u003e 5.0\\\\u003cbr\\\\u003e\\\\u003cb\\\\u003eLevel:\\\\u003c/b\\\\u003e Low\\\\u003cbr\\\\u003e\\\\u003cb\\\\u003eCounty:\\\\u003c/b\\\\u003e Lee County\", \"\\\\u003cb\\\\u003eDeath Count:\\\\u003c/b\\\\u003e 0.0\\\\u003cbr\\\\u003e\\\\u003cb\\\\u003eLevel:\\\\u003c/b\\\\u003e Low\\\\u003cbr\\\\u003e\\\\u003cb\\\\u003eCounty:\\\\u003c/b\\\\u003e Highland County\", \"\\\\u003cb\\\\u003eDeath Count:\\\\u003c/b\\\\u003e 1.0\\\\u003cbr\\\\u003e\\\\u003cb\\\\u003eLevel:\\\\u003c/b\\\\u003e Low\\\\u003cbr\\\\u003e\\\\u003cb\\\\u003eCounty:\\\\u003c/b\\\\u003e Franklin City\", \"\\\\u003cb\\\\u003eDeath Count:\\\\u003c/b\\\\u003e 15.0\\\\u003cbr\\\\u003e\\\\u003cb\\\\u003eLevel:\\\\u003c/b\\\\u003e High\\\\u003cbr\\\\u003e\\\\u003cb\\\\u003eCounty:\\\\u003c/b\\\\u003e Winchester City\", \"\\\\u003cb\\\\u003eDeath Count:\\\\u003c/b\\\\u003e 0.0\\\\u003cbr\\\\u003e\\\\u003cb\\\\u003eLevel:\\\\u003c/b\\\\u003e Low\\\\u003cbr\\\\u003e\\\\u003cb\\\\u003eCounty:\\\\u003c/b\\\\u003e Norton City\", \"\\\\u003cb\\\\u003eDeath Count:\\\\u003c/b\\\\u003e 0.0\\\\u003cbr\\\\u003e\\\\u003cb\\\\u003eLevel:\\\\u003c/b\\\\u003e Low\\\\u003cbr\\\\u003e\\\\u003cb\\\\u003eCounty:\\\\u003c/b\\\\u003e Clarke County\", \"\\\\u003cb\\\\u003eDeath Count:\\\\u003c/b\\\\u003e 6.0\\\\u003cbr\\\\u003e\\\\u003cb\\\\u003eLevel:\\\\u003c/b\\\\u003e Low\\\\u003cbr\\\\u003e\\\\u003cb\\\\u003eCounty:\\\\u003c/b\\\\u003e Accomack County\", \"\\\\u003cb\\\\u003eDeath Count:\\\\u003c/b\\\\u003e 3.0\\\\u003cbr\\\\u003e\\\\u003cb\\\\u003eLevel:\\\\u003c/b\\\\u003e Low\\\\u003cbr\\\\u003e\\\\u003cb\\\\u003eCounty:\\\\u003c/b\\\\u003e Bristol City\"], \"dist_label\": \"Member\", \"histogram\": [[{\"color\": \"rgb(13, 128, 67)\", \"height\": 100.0, \"perc\": 88.9}, {\"color\": \"rgb(64, 170, 89)\", \"height\": 13.0, \"perc\": 11.1}, {\"color\": \"rgb(134, 203, 102)\", \"height\": 0.0, \"perc\": 0.0}, {\"color\": \"rgb(191, 228, 122)\", \"height\": 0.0, \"perc\": 0.0}, {\"color\": \"rgb(236, 247, 164)\", \"height\": 0.0, \"perc\": 0.0}, {\"color\": \"rgb(254, 239, 164)\", \"height\": 0.0, \"perc\": 0.0}, {\"color\": \"rgb(253, 198, 117)\", \"height\": 0.0, \"perc\": 0.0}, {\"color\": \"rgb(248, 141, 81)\", \"height\": 0.0, \"perc\": 0.0}, {\"color\": \"rgb(229, 78, 52)\", \"height\": 0.0, \"perc\": 0.0}, {\"color\": \"rgb(190, 24, 38)\", \"height\": 0.0, \"perc\": 0.0}]], \"node_id\": \"cube7_cluster1\", \"projection_stats\": []}, \"type\": \"circle\"}, {\"color\": [[0.5298507462686567]], \"id\": \"\", \"name\": \"cube8_cluster0\", \"size\": 1, \"tooltip\": {\"cluster_stats\": {\"above\": [], \"below\": [], \"size\": 1}, \"custom_tooltips\": [\"\\\\u003cb\\\\u003eDeath Count:\\\\u003c/b\\\\u003e 71.0\\\\u003cbr\\\\u003e\\\\u003cb\\\\u003eLevel:\\\\u003c/b\\\\u003e High\\\\u003cbr\\\\u003e\\\\u003cb\\\\u003eCounty:\\\\u003c/b\\\\u003e Norfolk City\"], \"dist_label\": \"Member\", \"histogram\": [[{\"color\": \"rgb(13, 128, 67)\", \"height\": 0.0, \"perc\": 0.0}, {\"color\": \"rgb(64, 170, 89)\", \"height\": 0.0, \"perc\": 0.0}, {\"color\": \"rgb(134, 203, 102)\", \"height\": 0.0, \"perc\": 0.0}, {\"color\": \"rgb(191, 228, 122)\", \"height\": 0.0, \"perc\": 0.0}, {\"color\": \"rgb(236, 247, 164)\", \"height\": 0.0, \"perc\": 0.0}, {\"color\": \"rgb(254, 239, 164)\", \"height\": 100.0, \"perc\": 100.0}, {\"color\": \"rgb(253, 198, 117)\", \"height\": 0.0, \"perc\": 0.0}, {\"color\": \"rgb(248, 141, 81)\", \"height\": 0.0, \"perc\": 0.0}, {\"color\": \"rgb(229, 78, 52)\", \"height\": 0.0, \"perc\": 0.0}, {\"color\": \"rgb(190, 24, 38)\", \"height\": 0.0, \"perc\": 0.0}]], \"node_id\": \"cube8_cluster0\", \"projection_stats\": []}, \"type\": \"circle\"}, {\"color\": [[0.40049751243781095]], \"id\": \"\", \"name\": \"cube8_cluster1\", \"size\": 2, \"tooltip\": {\"cluster_stats\": {\"above\": [], \"below\": [], \"size\": 3}, \"custom_tooltips\": [\"\\\\u003cb\\\\u003eDeath Count:\\\\u003c/b\\\\u003e 52.0\\\\u003cbr\\\\u003e\\\\u003cb\\\\u003eLevel:\\\\u003c/b\\\\u003e High\\\\u003cbr\\\\u003e\\\\u003cb\\\\u003eCounty:\\\\u003c/b\\\\u003e Spotsylvania County\", \"\\\\u003cb\\\\u003eDeath Count:\\\\u003c/b\\\\u003e 57.0\\\\u003cbr\\\\u003e\\\\u003cb\\\\u003eLevel:\\\\u003c/b\\\\u003e High\\\\u003cbr\\\\u003e\\\\u003cb\\\\u003eCounty:\\\\u003c/b\\\\u003e Newport News City\", \"\\\\u003cb\\\\u003eDeath Count:\\\\u003c/b\\\\u003e 52.0\\\\u003cbr\\\\u003e\\\\u003cb\\\\u003eLevel:\\\\u003c/b\\\\u003e High\\\\u003cbr\\\\u003e\\\\u003cb\\\\u003eCounty:\\\\u003c/b\\\\u003e Chesapeake City\"], \"dist_label\": \"Member\", \"histogram\": [[{\"color\": \"rgb(13, 128, 67)\", \"height\": 0.0, \"perc\": 0.0}, {\"color\": \"rgb(64, 170, 89)\", \"height\": 0.0, \"perc\": 0.0}, {\"color\": \"rgb(134, 203, 102)\", \"height\": 0.0, \"perc\": 0.0}, {\"color\": \"rgb(191, 228, 122)\", \"height\": 100.0, \"perc\": 66.7}, {\"color\": \"rgb(236, 247, 164)\", \"height\": 50.0, \"perc\": 33.3}, {\"color\": \"rgb(254, 239, 164)\", \"height\": 0.0, \"perc\": 0.0}, {\"color\": \"rgb(253, 198, 117)\", \"height\": 0.0, \"perc\": 0.0}, {\"color\": \"rgb(248, 141, 81)\", \"height\": 0.0, \"perc\": 0.0}, {\"color\": \"rgb(229, 78, 52)\", \"height\": 0.0, \"perc\": 0.0}, {\"color\": \"rgb(190, 24, 38)\", \"height\": 0.0, \"perc\": 0.0}]], \"node_id\": \"cube8_cluster1\", \"projection_stats\": []}, \"type\": \"circle\"}, {\"color\": [[0.16169154228855723]], \"id\": \"\", \"name\": \"cube10_cluster0\", \"size\": 3, \"tooltip\": {\"cluster_stats\": {\"above\": [], \"below\": [], \"size\": 9}, \"custom_tooltips\": [\"\\\\u003cb\\\\u003eDeath Count:\\\\u003c/b\\\\u003e 23.0\\\\u003cbr\\\\u003e\\\\u003cb\\\\u003eLevel:\\\\u003c/b\\\\u003e High\\\\u003cbr\\\\u003e\\\\u003cb\\\\u003eCounty:\\\\u003c/b\\\\u003e Suffolk City\", \"\\\\u003cb\\\\u003eDeath Count:\\\\u003c/b\\\\u003e 14.0\\\\u003cbr\\\\u003e\\\\u003cb\\\\u003eLevel:\\\\u003c/b\\\\u003e High\\\\u003cbr\\\\u003e\\\\u003cb\\\\u003eCounty:\\\\u003c/b\\\\u003e Pittsylvania County\", \"\\\\u003cb\\\\u003eDeath Count:\\\\u003c/b\\\\u003e 17.0\\\\u003cbr\\\\u003e\\\\u003cb\\\\u003eLevel:\\\\u003c/b\\\\u003e High\\\\u003cbr\\\\u003e\\\\u003cb\\\\u003eCounty:\\\\u003c/b\\\\u003e Culpeper County\", \"\\\\u003cb\\\\u003eDeath Count:\\\\u003c/b\\\\u003e 21.0\\\\u003cbr\\\\u003e\\\\u003cb\\\\u003eLevel:\\\\u003c/b\\\\u003e High\\\\u003cbr\\\\u003e\\\\u003cb\\\\u003eCounty:\\\\u003c/b\\\\u003e Warren County\", \"\\\\u003cb\\\\u003eDeath Count:\\\\u003c/b\\\\u003e 19.0\\\\u003cbr\\\\u003e\\\\u003cb\\\\u003eLevel:\\\\u003c/b\\\\u003e High\\\\u003cbr\\\\u003e\\\\u003cb\\\\u003eCounty:\\\\u003c/b\\\\u003e Alexandria City\", \"\\\\u003cb\\\\u003eDeath Count:\\\\u003c/b\\\\u003e 15.0\\\\u003cbr\\\\u003e\\\\u003cb\\\\u003eLevel:\\\\u003c/b\\\\u003e High\\\\u003cbr\\\\u003e\\\\u003cb\\\\u003eCounty:\\\\u003c/b\\\\u003e Franklin County\", \"\\\\u003cb\\\\u003eDeath Count:\\\\u003c/b\\\\u003e 29.0\\\\u003cbr\\\\u003e\\\\u003cb\\\\u003eLevel:\\\\u003c/b\\\\u003e High\\\\u003cbr\\\\u003e\\\\u003cb\\\\u003eCounty:\\\\u003c/b\\\\u003e Roanoke County\", \"\\\\u003cb\\\\u003eDeath Count:\\\\u003c/b\\\\u003e 24.0\\\\u003cbr\\\\u003e\\\\u003cb\\\\u003eLevel:\\\\u003c/b\\\\u003e High\\\\u003cbr\\\\u003e\\\\u003cb\\\\u003eCounty:\\\\u003c/b\\\\u003e Hanover County\", \"\\\\u003cb\\\\u003eDeath Count:\\\\u003c/b\\\\u003e 33.0\\\\u003cbr\\\\u003e\\\\u003cb\\\\u003eLevel:\\\\u003c/b\\\\u003e High\\\\u003cbr\\\\u003e\\\\u003cb\\\\u003eCounty:\\\\u003c/b\\\\u003e Petersburg City\"], \"dist_label\": \"Member\", \"histogram\": [[{\"color\": \"rgb(13, 128, 67)\", \"height\": 0.0, \"perc\": 0.0}, {\"color\": \"rgb(64, 170, 89)\", \"height\": 100.0, \"perc\": 77.8}, {\"color\": \"rgb(134, 203, 102)\", \"height\": 29.0, \"perc\": 22.2}, {\"color\": \"rgb(191, 228, 122)\", \"height\": 0.0, \"perc\": 0.0}, {\"color\": \"rgb(236, 247, 164)\", \"height\": 0.0, \"perc\": 0.0}, {\"color\": \"rgb(254, 239, 164)\", \"height\": 0.0, \"perc\": 0.0}, {\"color\": \"rgb(253, 198, 117)\", \"height\": 0.0, \"perc\": 0.0}, {\"color\": \"rgb(248, 141, 81)\", \"height\": 0.0, \"perc\": 0.0}, {\"color\": \"rgb(229, 78, 52)\", \"height\": 0.0, \"perc\": 0.0}, {\"color\": \"rgb(190, 24, 38)\", \"height\": 0.0, \"perc\": 0.0}]], \"node_id\": \"cube10_cluster0\", \"projection_stats\": []}, \"type\": \"circle\"}, {\"color\": [[0.03247277127874142]], \"id\": \"\", \"name\": \"cube10_cluster1\", \"size\": 4, \"tooltip\": {\"cluster_stats\": {\"above\": [], \"below\": [], \"size\": 37}, \"custom_tooltips\": [\"\\\\u003cb\\\\u003eDeath Count:\\\\u003c/b\\\\u003e 3.0\\\\u003cbr\\\\u003e\\\\u003cb\\\\u003eLevel:\\\\u003c/b\\\\u003e Low\\\\u003cbr\\\\u003e\\\\u003cb\\\\u003eCounty:\\\\u003c/b\\\\u003e Dickenson County\", \"\\\\u003cb\\\\u003eDeath Count:\\\\u003c/b\\\\u003e 7.0\\\\u003cbr\\\\u003e\\\\u003cb\\\\u003eLevel:\\\\u003c/b\\\\u003e Low\\\\u003cbr\\\\u003e\\\\u003cb\\\\u003eCounty:\\\\u003c/b\\\\u003e Fauquier County\", \"\\\\u003cb\\\\u003eDeath Count:\\\\u003c/b\\\\u003e 4.0\\\\u003cbr\\\\u003e\\\\u003cb\\\\u003eLevel:\\\\u003c/b\\\\u003e Low\\\\u003cbr\\\\u003e\\\\u003cb\\\\u003eCounty:\\\\u003c/b\\\\u003e Southampton County\", \"\\\\u003cb\\\\u003eDeath Count:\\\\u003c/b\\\\u003e 1.0\\\\u003cbr\\\\u003e\\\\u003cb\\\\u003eLevel:\\\\u003c/b\\\\u003e Low\\\\u003cbr\\\\u003e\\\\u003cb\\\\u003eCounty:\\\\u003c/b\\\\u003e Grayson County\", \"\\\\u003cb\\\\u003eDeath Count:\\\\u003c/b\\\\u003e 6.0\\\\u003cbr\\\\u003e\\\\u003cb\\\\u003eLevel:\\\\u003c/b\\\\u003e Low\\\\u003cbr\\\\u003e\\\\u003cb\\\\u003eCounty:\\\\u003c/b\\\\u003e Rappahannock County\", \"\\\\u003cb\\\\u003eDeath Count:\\\\u003c/b\\\\u003e 4.0\\\\u003cbr\\\\u003e\\\\u003cb\\\\u003eLevel:\\\\u003c/b\\\\u003e Low\\\\u003cbr\\\\u003e\\\\u003cb\\\\u003eCounty:\\\\u003c/b\\\\u003e Wythe County\", \"\\\\u003cb\\\\u003eDeath Count:\\\\u003c/b\\\\u003e 8.0\\\\u003cbr\\\\u003e\\\\u003cb\\\\u003eLevel:\\\\u003c/b\\\\u003e Low\\\\u003cbr\\\\u003e\\\\u003cb\\\\u003eCounty:\\\\u003c/b\\\\u003e Shenandoah County\", \"\\\\u003cb\\\\u003eDeath Count:\\\\u003c/b\\\\u003e 6.0\\\\u003cbr\\\\u003e\\\\u003cb\\\\u003eLevel:\\\\u003c/b\\\\u003e Low\\\\u003cbr\\\\u003e\\\\u003cb\\\\u003eCounty:\\\\u003c/b\\\\u003e Page County\", \"\\\\u003cb\\\\u003eDeath Count:\\\\u003c/b\\\\u003e 3.0\\\\u003cbr\\\\u003e\\\\u003cb\\\\u003eLevel:\\\\u003c/b\\\\u003e Low\\\\u003cbr\\\\u003e\\\\u003cb\\\\u003eCounty:\\\\u003c/b\\\\u003e Alleghany County\", \"\\\\u003cb\\\\u003eDeath Count:\\\\u003c/b\\\\u003e 2.0\\\\u003cbr\\\\u003e\\\\u003cb\\\\u003eLevel:\\\\u003c/b\\\\u003e Low\\\\u003cbr\\\\u003e\\\\u003cb\\\\u003eCounty:\\\\u003c/b\\\\u003e Smyth County\", \"\\\\u003cb\\\\u003eDeath Count:\\\\u003c/b\\\\u003e 8.0\\\\u003cbr\\\\u003e\\\\u003cb\\\\u003eLevel:\\\\u003c/b\\\\u003e Low\\\\u003cbr\\\\u003e\\\\u003cb\\\\u003eCounty:\\\\u003c/b\\\\u003e Augusta County\", \"\\\\u003cb\\\\u003eDeath Count:\\\\u003c/b\\\\u003e 6.0\\\\u003cbr\\\\u003e\\\\u003cb\\\\u003eLevel:\\\\u003c/b\\\\u003e Low\\\\u003cbr\\\\u003e\\\\u003cb\\\\u003eCounty:\\\\u003c/b\\\\u003e Greensville County\", \"\\\\u003cb\\\\u003eDeath Count:\\\\u003c/b\\\\u003e 12.0\\\\u003cbr\\\\u003e\\\\u003cb\\\\u003eLevel:\\\\u003c/b\\\\u003e Low\\\\u003cbr\\\\u003e\\\\u003cb\\\\u003eCounty:\\\\u003c/b\\\\u003e Rockingham County\", \"\\\\u003cb\\\\u003eDeath Count:\\\\u003c/b\\\\u003e 3.0\\\\u003cbr\\\\u003e\\\\u003cb\\\\u003eLevel:\\\\u003c/b\\\\u003e Low\\\\u003cbr\\\\u003e\\\\u003cb\\\\u003eCounty:\\\\u003c/b\\\\u003e Staunton City\", \"\\\\u003cb\\\\u003eDeath Count:\\\\u003c/b\\\\u003e 12.0\\\\u003cbr\\\\u003e\\\\u003cb\\\\u003eLevel:\\\\u003c/b\\\\u003e Low\\\\u003cbr\\\\u003e\\\\u003cb\\\\u003eCounty:\\\\u003c/b\\\\u003e Montgomery County\", \"\\\\u003cb\\\\u003eDeath Count:\\\\u003c/b\\\\u003e 1.0\\\\u003cbr\\\\u003e\\\\u003cb\\\\u003eLevel:\\\\u003c/b\\\\u003e Low\\\\u003cbr\\\\u003e\\\\u003cb\\\\u003eCounty:\\\\u003c/b\\\\u003e Manassas Park City\", \"\\\\u003cb\\\\u003eDeath Count:\\\\u003c/b\\\\u003e 8.0\\\\u003cbr\\\\u003e\\\\u003cb\\\\u003eLevel:\\\\u003c/b\\\\u003e Low\\\\u003cbr\\\\u003e\\\\u003cb\\\\u003eCounty:\\\\u003c/b\\\\u003e King George County\", \"\\\\u003cb\\\\u003eDeath Count:\\\\u003c/b\\\\u003e 1.0\\\\u003cbr\\\\u003e\\\\u003cb\\\\u003eLevel:\\\\u003c/b\\\\u003e Low\\\\u003cbr\\\\u003e\\\\u003cb\\\\u003eCounty:\\\\u003c/b\\\\u003e Russell County\", \"\\\\u003cb\\\\u003eDeath Count:\\\\u003c/b\\\\u003e 2.0\\\\u003cbr\\\\u003e\\\\u003cb\\\\u003eLevel:\\\\u003c/b\\\\u003e Low\\\\u003cbr\\\\u003e\\\\u003cb\\\\u003eCounty:\\\\u003c/b\\\\u003e Westmoreland County\", \"\\\\u003cb\\\\u003eDeath Count:\\\\u003c/b\\\\u003e 0.0\\\\u003cbr\\\\u003e\\\\u003cb\\\\u003eLevel:\\\\u003c/b\\\\u003e Low\\\\u003cbr\\\\u003e\\\\u003cb\\\\u003eCounty:\\\\u003c/b\\\\u003e Falls Church City\", \"\\\\u003cb\\\\u003eDeath Count:\\\\u003c/b\\\\u003e 8.0\\\\u003cbr\\\\u003e\\\\u003cb\\\\u003eLevel:\\\\u003c/b\\\\u003e Low\\\\u003cbr\\\\u003e\\\\u003cb\\\\u003eCounty:\\\\u003c/b\\\\u003e Patrick County\", \"\\\\u003cb\\\\u003eDeath Count:\\\\u003c/b\\\\u003e 0.0\\\\u003cbr\\\\u003e\\\\u003cb\\\\u003eLevel:\\\\u003c/b\\\\u003e Low\\\\u003cbr\\\\u003e\\\\u003cb\\\\u003eCounty:\\\\u003c/b\\\\u003e Unknown\", \"\\\\u003cb\\\\u003eDeath Count:\\\\u003c/b\\\\u003e 2.0\\\\u003cbr\\\\u003e\\\\u003cb\\\\u003eLevel:\\\\u003c/b\\\\u003e Low\\\\u003cbr\\\\u003e\\\\u003cb\\\\u003eCounty:\\\\u003c/b\\\\u003e Buchanan County\", \"\\\\u003cb\\\\u003eDeath Count:\\\\u003c/b\\\\u003e 10.0\\\\u003cbr\\\\u003e\\\\u003cb\\\\u003eLevel:\\\\u003c/b\\\\u003e Low\\\\u003cbr\\\\u003e\\\\u003cb\\\\u003eCounty:\\\\u003c/b\\\\u003e Danville City\", \"\\\\u003cb\\\\u003eDeath Count:\\\\u003c/b\\\\u003e 5.0\\\\u003cbr\\\\u003e\\\\u003cb\\\\u003eLevel:\\\\u003c/b\\\\u003e Low\\\\u003cbr\\\\u003e\\\\u003cb\\\\u003eCounty:\\\\u003c/b\\\\u003e Scott County\", \"\\\\u003cb\\\\u003eDeath Count:\\\\u003c/b\\\\u003e 0.0\\\\u003cbr\\\\u003e\\\\u003cb\\\\u003eLevel:\\\\u003c/b\\\\u003e Low\\\\u003cbr\\\\u003e\\\\u003cb\\\\u003eCounty:\\\\u003c/b\\\\u003e Bath County\", \"\\\\u003cb\\\\u003eDeath Count:\\\\u003c/b\\\\u003e 8.0\\\\u003cbr\\\\u003e\\\\u003cb\\\\u003eLevel:\\\\u003c/b\\\\u003e Low\\\\u003cbr\\\\u003e\\\\u003cb\\\\u003eCounty:\\\\u003c/b\\\\u003e Mecklenburg County\", \"\\\\u003cb\\\\u003eDeath Count:\\\\u003c/b\\\\u003e 2.0\\\\u003cbr\\\\u003e\\\\u003cb\\\\u003eLevel:\\\\u003c/b\\\\u003e Low\\\\u003cbr\\\\u003e\\\\u003cb\\\\u003eCounty:\\\\u003c/b\\\\u003e Emporia City\", \"\\\\u003cb\\\\u003eDeath Count:\\\\u003c/b\\\\u003e 2.0\\\\u003cbr\\\\u003e\\\\u003cb\\\\u003eLevel:\\\\u003c/b\\\\u003e Low\\\\u003cbr\\\\u003e\\\\u003cb\\\\u003eCounty:\\\\u003c/b\\\\u003e Galax City\", \"\\\\u003cb\\\\u003eDeath Count:\\\\u003c/b\\\\u003e 1.0\\\\u003cbr\\\\u003e\\\\u003cb\\\\u003eLevel:\\\\u003c/b\\\\u003e Low\\\\u003cbr\\\\u003e\\\\u003cb\\\\u003eCounty:\\\\u003c/b\\\\u003e Covington City\", \"\\\\u003cb\\\\u003eDeath Count:\\\\u003c/b\\\\u003e 3.0\\\\u003cbr\\\\u003e\\\\u003cb\\\\u003eLevel:\\\\u003c/b\\\\u003e Low\\\\u003cbr\\\\u003e\\\\u003cb\\\\u003eCounty:\\\\u003c/b\\\\u003e Madison County\", \"\\\\u003cb\\\\u003eDeath Count:\\\\u003c/b\\\\u003e 6.0\\\\u003cbr\\\\u003e\\\\u003cb\\\\u003eLevel:\\\\u003c/b\\\\u003e Low\\\\u003cbr\\\\u003e\\\\u003cb\\\\u003eCounty:\\\\u003c/b\\\\u003e Fairfax City\", \"\\\\u003cb\\\\u003eDeath Count:\\\\u003c/b\\\\u003e 2.0\\\\u003cbr\\\\u003e\\\\u003cb\\\\u003eLevel:\\\\u003c/b\\\\u003e Low\\\\u003cbr\\\\u003e\\\\u003cb\\\\u003eCounty:\\\\u003c/b\\\\u003e Carroll County\", \"\\\\u003cb\\\\u003eDeath Count:\\\\u003c/b\\\\u003e 1.0\\\\u003cbr\\\\u003e\\\\u003cb\\\\u003eLevel:\\\\u003c/b\\\\u003e Low\\\\u003cbr\\\\u003e\\\\u003cb\\\\u003eCounty:\\\\u003c/b\\\\u003e Harrisonburg City\", \"\\\\u003cb\\\\u003eDeath Count:\\\\u003c/b\\\\u003e 3.0\\\\u003cbr\\\\u003e\\\\u003cb\\\\u003eLevel:\\\\u003c/b\\\\u003e Low\\\\u003cbr\\\\u003e\\\\u003cb\\\\u003eCounty:\\\\u003c/b\\\\u003e Northampton County\", \"\\\\u003cb\\\\u003eDeath Count:\\\\u003c/b\\\\u003e 1.0\\\\u003cbr\\\\u003e\\\\u003cb\\\\u003eLevel:\\\\u003c/b\\\\u003e Low\\\\u003cbr\\\\u003e\\\\u003cb\\\\u003eCounty:\\\\u003c/b\\\\u003e Washington County\", \"\\\\u003cb\\\\u003eDeath Count:\\\\u003c/b\\\\u003e 10.0\\\\u003cbr\\\\u003e\\\\u003cb\\\\u003eLevel:\\\\u003c/b\\\\u003e Low\\\\u003cbr\\\\u003e\\\\u003cb\\\\u003eCounty:\\\\u003c/b\\\\u003e Manassas City\"], \"dist_label\": \"Member\", \"histogram\": [[{\"color\": \"rgb(13, 128, 67)\", \"height\": 100.0, \"perc\": 100.0}, {\"color\": \"rgb(64, 170, 89)\", \"height\": 0.0, \"perc\": 0.0}, {\"color\": \"rgb(134, 203, 102)\", \"height\": 0.0, \"perc\": 0.0}, {\"color\": \"rgb(191, 228, 122)\", \"height\": 0.0, \"perc\": 0.0}, {\"color\": \"rgb(236, 247, 164)\", \"height\": 0.0, \"perc\": 0.0}, {\"color\": \"rgb(254, 239, 164)\", \"height\": 0.0, \"perc\": 0.0}, {\"color\": \"rgb(253, 198, 117)\", \"height\": 0.0, \"perc\": 0.0}, {\"color\": \"rgb(248, 141, 81)\", \"height\": 0.0, \"perc\": 0.0}, {\"color\": \"rgb(229, 78, 52)\", \"height\": 0.0, \"perc\": 0.0}, {\"color\": \"rgb(190, 24, 38)\", \"height\": 0.0, \"perc\": 0.0}]], \"node_id\": \"cube10_cluster1\", \"projection_stats\": []}, \"type\": \"circle\"}, {\"color\": [[0.02220604295595195]], \"id\": \"\", \"name\": \"cube11_cluster0\", \"size\": 4, \"tooltip\": {\"cluster_stats\": {\"above\": [], \"below\": [], \"size\": 41}, \"custom_tooltips\": [\"\\\\u003cb\\\\u003eDeath Count:\\\\u003c/b\\\\u003e 5.0\\\\u003cbr\\\\u003e\\\\u003cb\\\\u003eLevel:\\\\u003c/b\\\\u003e Low\\\\u003cbr\\\\u003e\\\\u003cb\\\\u003eCounty:\\\\u003c/b\\\\u003e Isle of Wight County\", \"\\\\u003cb\\\\u003eDeath Count:\\\\u003c/b\\\\u003e 1.0\\\\u003cbr\\\\u003e\\\\u003cb\\\\u003eLevel:\\\\u003c/b\\\\u003e Low\\\\u003cbr\\\\u003e\\\\u003cb\\\\u003eCounty:\\\\u003c/b\\\\u003e Northumberland County\", \"\\\\u003cb\\\\u003eDeath Count:\\\\u003c/b\\\\u003e 4.0\\\\u003cbr\\\\u003e\\\\u003cb\\\\u003eLevel:\\\\u003c/b\\\\u003e Low\\\\u003cbr\\\\u003e\\\\u003cb\\\\u003eCounty:\\\\u003c/b\\\\u003e Southampton County\", \"\\\\u003cb\\\\u003eDeath Count:\\\\u003c/b\\\\u003e 6.0\\\\u003cbr\\\\u003e\\\\u003cb\\\\u003eLevel:\\\\u003c/b\\\\u003e Low\\\\u003cbr\\\\u003e\\\\u003cb\\\\u003eCounty:\\\\u003c/b\\\\u003e Prince George County\", \"\\\\u003cb\\\\u003eDeath Count:\\\\u003c/b\\\\u003e 6.0\\\\u003cbr\\\\u003e\\\\u003cb\\\\u003eLevel:\\\\u003c/b\\\\u003e Low\\\\u003cbr\\\\u003e\\\\u003cb\\\\u003eCounty:\\\\u003c/b\\\\u003e Rappahannock County\", \"\\\\u003cb\\\\u003eDeath Count:\\\\u003c/b\\\\u003e 4.0\\\\u003cbr\\\\u003e\\\\u003cb\\\\u003eLevel:\\\\u003c/b\\\\u003e Low\\\\u003cbr\\\\u003e\\\\u003cb\\\\u003eCounty:\\\\u003c/b\\\\u003e Bland County\", \"\\\\u003cb\\\\u003eDeath Count:\\\\u003c/b\\\\u003e 3.0\\\\u003cbr\\\\u003e\\\\u003cb\\\\u003eLevel:\\\\u003c/b\\\\u003e Low\\\\u003cbr\\\\u003e\\\\u003cb\\\\u003eCounty:\\\\u003c/b\\\\u003e Nottoway County\", \"\\\\u003cb\\\\u003eDeath Count:\\\\u003c/b\\\\u003e 0.0\\\\u003cbr\\\\u003e\\\\u003cb\\\\u003eLevel:\\\\u003c/b\\\\u003e Low\\\\u003cbr\\\\u003e\\\\u003cb\\\\u003eCounty:\\\\u003c/b\\\\u003e Colonial Heights City\", \"\\\\u003cb\\\\u003eDeath Count:\\\\u003c/b\\\\u003e 6.0\\\\u003cbr\\\\u003e\\\\u003cb\\\\u003eLevel:\\\\u003c/b\\\\u003e Low\\\\u003cbr\\\\u003e\\\\u003cb\\\\u003eCounty:\\\\u003c/b\\\\u003e Brunswick County\", \"\\\\u003cb\\\\u003eDeath Count:\\\\u003c/b\\\\u003e 6.0\\\\u003cbr\\\\u003e\\\\u003cb\\\\u003eLevel:\\\\u003c/b\\\\u003e Low\\\\u003cbr\\\\u003e\\\\u003cb\\\\u003eCounty:\\\\u003c/b\\\\u003e Waynesboro City\", \"\\\\u003cb\\\\u003eDeath Count:\\\\u003c/b\\\\u003e 2.0\\\\u003cbr\\\\u003e\\\\u003cb\\\\u003eLevel:\\\\u003c/b\\\\u003e Low\\\\u003cbr\\\\u003e\\\\u003cb\\\\u003eCounty:\\\\u003c/b\\\\u003e Floyd County\", \"\\\\u003cb\\\\u003eDeath Count:\\\\u003c/b\\\\u003e 3.0\\\\u003cbr\\\\u003e\\\\u003cb\\\\u003eLevel:\\\\u003c/b\\\\u003e Low\\\\u003cbr\\\\u003e\\\\u003cb\\\\u003eCounty:\\\\u003c/b\\\\u003e Middlesex County\", \"\\\\u003cb\\\\u003eDeath Count:\\\\u003c/b\\\\u003e 0.0\\\\u003cbr\\\\u003e\\\\u003cb\\\\u003eLevel:\\\\u003c/b\\\\u003e Low\\\\u003cbr\\\\u003e\\\\u003cb\\\\u003eCounty:\\\\u003c/b\\\\u003e Lexington City\", \"\\\\u003cb\\\\u003eDeath Count:\\\\u003c/b\\\\u003e 3.0\\\\u003cbr\\\\u003e\\\\u003cb\\\\u003eLevel:\\\\u003c/b\\\\u003e Low\\\\u003cbr\\\\u003e\\\\u003cb\\\\u003eCounty:\\\\u003c/b\\\\u003e Staunton City\", \"\\\\u003cb\\\\u003eDeath Count:\\\\u003c/b\\\\u003e 6.0\\\\u003cbr\\\\u003e\\\\u003cb\\\\u003eLevel:\\\\u003c/b\\\\u003e Low\\\\u003cbr\\\\u003e\\\\u003cb\\\\u003eCounty:\\\\u003c/b\\\\u003e Amherst County\", \"\\\\u003cb\\\\u003eDeath Count:\\\\u003c/b\\\\u003e 5.0\\\\u003cbr\\\\u003e\\\\u003cb\\\\u003eLevel:\\\\u003c/b\\\\u003e Low\\\\u003cbr\\\\u003e\\\\u003cb\\\\u003eCounty:\\\\u003c/b\\\\u003e New Kent County\", \"\\\\u003cb\\\\u003eDeath Count:\\\\u003c/b\\\\u003e 0.0\\\\u003cbr\\\\u003e\\\\u003cb\\\\u003eLevel:\\\\u003c/b\\\\u003e Low\\\\u003cbr\\\\u003e\\\\u003cb\\\\u003eCounty:\\\\u003c/b\\\\u003e Charles City County\", \"\\\\u003cb\\\\u003eDeath Count:\\\\u003c/b\\\\u003e 1.0\\\\u003cbr\\\\u003e\\\\u003cb\\\\u003eLevel:\\\\u003c/b\\\\u003e Low\\\\u003cbr\\\\u003e\\\\u003cb\\\\u003eCounty:\\\\u003c/b\\\\u003e Mathews County\", \"\\\\u003cb\\\\u003eDeath Count:\\\\u003c/b\\\\u003e 2.0\\\\u003cbr\\\\u003e\\\\u003cb\\\\u003eLevel:\\\\u003c/b\\\\u003e Low\\\\u003cbr\\\\u003e\\\\u003cb\\\\u003eCounty:\\\\u003c/b\\\\u003e Lunenburg County\", \"\\\\u003cb\\\\u003eDeath Count:\\\\u003c/b\\\\u003e 4.0\\\\u003cbr\\\\u003e\\\\u003cb\\\\u003eLevel:\\\\u003c/b\\\\u003e Low\\\\u003cbr\\\\u003e\\\\u003cb\\\\u003eCounty:\\\\u003c/b\\\\u003e Williamsburg City\", \"\\\\u003cb\\\\u003eDeath Count:\\\\u003c/b\\\\u003e 2.0\\\\u003cbr\\\\u003e\\\\u003cb\\\\u003eLevel:\\\\u003c/b\\\\u003e Low\\\\u003cbr\\\\u003e\\\\u003cb\\\\u003eCounty:\\\\u003c/b\\\\u003e Cumberland County\", \"\\\\u003cb\\\\u003eDeath Count:\\\\u003c/b\\\\u003e 2.0\\\\u003cbr\\\\u003e\\\\u003cb\\\\u003eLevel:\\\\u003c/b\\\\u003e Low\\\\u003cbr\\\\u003e\\\\u003cb\\\\u003eCounty:\\\\u003c/b\\\\u003e Fluvanna County\", \"\\\\u003cb\\\\u003eDeath Count:\\\\u003c/b\\\\u003e 2.0\\\\u003cbr\\\\u003e\\\\u003cb\\\\u003eLevel:\\\\u003c/b\\\\u003e Low\\\\u003cbr\\\\u003e\\\\u003cb\\\\u003eCounty:\\\\u003c/b\\\\u003e Buckingham County\", \"\\\\u003cb\\\\u003eDeath Count:\\\\u003c/b\\\\u003e 2.0\\\\u003cbr\\\\u003e\\\\u003cb\\\\u003eLevel:\\\\u003c/b\\\\u003e Low\\\\u003cbr\\\\u003e\\\\u003cb\\\\u003eCounty:\\\\u003c/b\\\\u003e Craig County\", \"\\\\u003cb\\\\u003eDeath Count:\\\\u003c/b\\\\u003e 3.0\\\\u003cbr\\\\u003e\\\\u003cb\\\\u003eLevel:\\\\u003c/b\\\\u003e Low\\\\u003cbr\\\\u003e\\\\u003cb\\\\u003eCounty:\\\\u003c/b\\\\u003e King and Queen County\", \"\\\\u003cb\\\\u003eDeath Count:\\\\u003c/b\\\\u003e 1.0\\\\u003cbr\\\\u003e\\\\u003cb\\\\u003eLevel:\\\\u003c/b\\\\u003e Low\\\\u003cbr\\\\u003e\\\\u003cb\\\\u003eCounty:\\\\u003c/b\\\\u003e Surry County\", \"\\\\u003cb\\\\u003eDeath Count:\\\\u003c/b\\\\u003e 0.0\\\\u003cbr\\\\u003e\\\\u003cb\\\\u003eLevel:\\\\u003c/b\\\\u003e Low\\\\u003cbr\\\\u003e\\\\u003cb\\\\u003eCounty:\\\\u003c/b\\\\u003e Buena Vista City\", \"\\\\u003cb\\\\u003eDeath Count:\\\\u003c/b\\\\u003e 1.0\\\\u003cbr\\\\u003e\\\\u003cb\\\\u003eLevel:\\\\u003c/b\\\\u003e Low\\\\u003cbr\\\\u003e\\\\u003cb\\\\u003eCounty:\\\\u003c/b\\\\u003e Nelson County\", \"\\\\u003cb\\\\u003eDeath Count:\\\\u003c/b\\\\u003e 4.0\\\\u003cbr\\\\u003e\\\\u003cb\\\\u003eLevel:\\\\u003c/b\\\\u003e Low\\\\u003cbr\\\\u003e\\\\u003cb\\\\u003eCounty:\\\\u003c/b\\\\u003e Poquoson City\", \"\\\\u003cb\\\\u003eDeath Count:\\\\u003c/b\\\\u003e 2.0\\\\u003cbr\\\\u003e\\\\u003cb\\\\u003eLevel:\\\\u003c/b\\\\u003e Low\\\\u003cbr\\\\u003e\\\\u003cb\\\\u003eCounty:\\\\u003c/b\\\\u003e Appomattox County\", \"\\\\u003cb\\\\u003eDeath Count:\\\\u003c/b\\\\u003e 4.0\\\\u003cbr\\\\u003e\\\\u003cb\\\\u003eLevel:\\\\u003c/b\\\\u003e Low\\\\u003cbr\\\\u003e\\\\u003cb\\\\u003eCounty:\\\\u003c/b\\\\u003e Rockbridge County\", \"\\\\u003cb\\\\u003eDeath Count:\\\\u003c/b\\\\u003e 4.0\\\\u003cbr\\\\u003e\\\\u003cb\\\\u003eLevel:\\\\u003c/b\\\\u003e Low\\\\u003cbr\\\\u003e\\\\u003cb\\\\u003eCounty:\\\\u003c/b\\\\u003e Lancaster County\", \"\\\\u003cb\\\\u003eDeath Count:\\\\u003c/b\\\\u003e 4.0\\\\u003cbr\\\\u003e\\\\u003cb\\\\u003eLevel:\\\\u003c/b\\\\u003e Low\\\\u003cbr\\\\u003e\\\\u003cb\\\\u003eCounty:\\\\u003c/b\\\\u003e Greene County\", \"\\\\u003cb\\\\u003eDeath Count:\\\\u003c/b\\\\u003e 1.0\\\\u003cbr\\\\u003e\\\\u003cb\\\\u003eLevel:\\\\u003c/b\\\\u003e Low\\\\u003cbr\\\\u003e\\\\u003cb\\\\u003eCounty:\\\\u003c/b\\\\u003e Richmond County\", \"\\\\u003cb\\\\u003eDeath Count:\\\\u003c/b\\\\u003e 3.0\\\\u003cbr\\\\u003e\\\\u003cb\\\\u003eLevel:\\\\u003c/b\\\\u003e Low\\\\u003cbr\\\\u003e\\\\u003cb\\\\u003eCounty:\\\\u003c/b\\\\u003e Madison County\", \"\\\\u003cb\\\\u003eDeath Count:\\\\u003c/b\\\\u003e 6.0\\\\u003cbr\\\\u003e\\\\u003cb\\\\u003eLevel:\\\\u003c/b\\\\u003e Low\\\\u003cbr\\\\u003e\\\\u003cb\\\\u003eCounty:\\\\u003c/b\\\\u003e Charlottesville City\", \"\\\\u003cb\\\\u003eDeath Count:\\\\u003c/b\\\\u003e 1.0\\\\u003cbr\\\\u003e\\\\u003cb\\\\u003eLevel:\\\\u003c/b\\\\u003e Low\\\\u003cbr\\\\u003e\\\\u003cb\\\\u003eCounty:\\\\u003c/b\\\\u003e Sussex County\", \"\\\\u003cb\\\\u003eDeath Count:\\\\u003c/b\\\\u003e 3.0\\\\u003cbr\\\\u003e\\\\u003cb\\\\u003eLevel:\\\\u003c/b\\\\u003e Low\\\\u003cbr\\\\u003e\\\\u003cb\\\\u003eCounty:\\\\u003c/b\\\\u003e Essex County\", \"\\\\u003cb\\\\u003eDeath Count:\\\\u003c/b\\\\u003e 2.0\\\\u003cbr\\\\u003e\\\\u003cb\\\\u003eLevel:\\\\u003c/b\\\\u003e Low\\\\u003cbr\\\\u003e\\\\u003cb\\\\u003eCounty:\\\\u003c/b\\\\u003e Carroll County\", \"\\\\u003cb\\\\u003eDeath Count:\\\\u003c/b\\\\u003e 6.0\\\\u003cbr\\\\u003e\\\\u003cb\\\\u003eLevel:\\\\u003c/b\\\\u003e Low\\\\u003cbr\\\\u003e\\\\u003cb\\\\u003eCounty:\\\\u003c/b\\\\u003e Goochland County\", \"\\\\u003cb\\\\u003eDeath Count:\\\\u003c/b\\\\u003e 2.0\\\\u003cbr\\\\u003e\\\\u003cb\\\\u003eLevel:\\\\u003c/b\\\\u003e Low\\\\u003cbr\\\\u003e\\\\u003cb\\\\u003eCounty:\\\\u003c/b\\\\u003e Radford City\"], \"dist_label\": \"Member\", \"histogram\": [[{\"color\": \"rgb(13, 128, 67)\", \"height\": 100.0, \"perc\": 100.0}, {\"color\": \"rgb(64, 170, 89)\", \"height\": 0.0, \"perc\": 0.0}, {\"color\": \"rgb(134, 203, 102)\", \"height\": 0.0, \"perc\": 0.0}, {\"color\": \"rgb(191, 228, 122)\", \"height\": 0.0, \"perc\": 0.0}, {\"color\": \"rgb(236, 247, 164)\", \"height\": 0.0, \"perc\": 0.0}, {\"color\": \"rgb(254, 239, 164)\", \"height\": 0.0, \"perc\": 0.0}, {\"color\": \"rgb(253, 198, 117)\", \"height\": 0.0, \"perc\": 0.0}, {\"color\": \"rgb(248, 141, 81)\", \"height\": 0.0, \"perc\": 0.0}, {\"color\": \"rgb(229, 78, 52)\", \"height\": 0.0, \"perc\": 0.0}, {\"color\": \"rgb(190, 24, 38)\", \"height\": 0.0, \"perc\": 0.0}]], \"node_id\": \"cube11_cluster0\", \"projection_stats\": []}, \"type\": \"circle\"}, {\"color\": [[0.07437810945273632]], \"id\": \"\", \"name\": \"cube11_cluster1\", \"size\": 4, \"tooltip\": {\"cluster_stats\": {\"above\": [], \"below\": [], \"size\": 30}, \"custom_tooltips\": [\"\\\\u003cb\\\\u003eDeath Count:\\\\u003c/b\\\\u003e 8.0\\\\u003cbr\\\\u003e\\\\u003cb\\\\u003eLevel:\\\\u003c/b\\\\u003e Low\\\\u003cbr\\\\u003e\\\\u003cb\\\\u003eCounty:\\\\u003c/b\\\\u003e Martinsville City\", \"\\\\u003cb\\\\u003eDeath Count:\\\\u003c/b\\\\u003e 7.0\\\\u003cbr\\\\u003e\\\\u003cb\\\\u003eLevel:\\\\u003c/b\\\\u003e Low\\\\u003cbr\\\\u003e\\\\u003cb\\\\u003eCounty:\\\\u003c/b\\\\u003e Charlotte County\", \"\\\\u003cb\\\\u003eDeath Count:\\\\u003c/b\\\\u003e 13.0\\\\u003cbr\\\\u003e\\\\u003cb\\\\u003eLevel:\\\\u003c/b\\\\u003e Low\\\\u003cbr\\\\u003e\\\\u003cb\\\\u003eCounty:\\\\u003c/b\\\\u003e York County\", \"\\\\u003cb\\\\u003eDeath Count:\\\\u003c/b\\\\u003e 9.0\\\\u003cbr\\\\u003e\\\\u003cb\\\\u003eLevel:\\\\u003c/b\\\\u003e Low\\\\u003cbr\\\\u003e\\\\u003cb\\\\u003eCounty:\\\\u003c/b\\\\u003e Gloucester County\", \"\\\\u003cb\\\\u003eDeath Count:\\\\u003c/b\\\\u003e 8.0\\\\u003cbr\\\\u003e\\\\u003cb\\\\u003eLevel:\\\\u003c/b\\\\u003e Low\\\\u003cbr\\\\u003e\\\\u003cb\\\\u003eCounty:\\\\u003c/b\\\\u003e Louisa County\", \"\\\\u003cb\\\\u003eDeath Count:\\\\u003c/b\\\\u003e 8.0\\\\u003cbr\\\\u003e\\\\u003cb\\\\u003eLevel:\\\\u003c/b\\\\u003e Low\\\\u003cbr\\\\u003e\\\\u003cb\\\\u003eCounty:\\\\u003c/b\\\\u003e Augusta County\", \"\\\\u003cb\\\\u003eDeath Count:\\\\u003c/b\\\\u003e 7.0\\\\u003cbr\\\\u003e\\\\u003cb\\\\u003eLevel:\\\\u003c/b\\\\u003e Low\\\\u003cbr\\\\u003e\\\\u003cb\\\\u003eCounty:\\\\u003c/b\\\\u003e Botetourt County\", \"\\\\u003cb\\\\u003eDeath Count:\\\\u003c/b\\\\u003e 12.0\\\\u003cbr\\\\u003e\\\\u003cb\\\\u003eLevel:\\\\u003c/b\\\\u003e Low\\\\u003cbr\\\\u003e\\\\u003cb\\\\u003eCounty:\\\\u003c/b\\\\u003e Orange County\", \"\\\\u003cb\\\\u003eDeath Count:\\\\u003c/b\\\\u003e 15.0\\\\u003cbr\\\\u003e\\\\u003cb\\\\u003eLevel:\\\\u003c/b\\\\u003e High\\\\u003cbr\\\\u003e\\\\u003cb\\\\u003eCounty:\\\\u003c/b\\\\u003e James City County\", \"\\\\u003cb\\\\u003eDeath Count:\\\\u003c/b\\\\u003e 16.0\\\\u003cbr\\\\u003e\\\\u003cb\\\\u003eLevel:\\\\u003c/b\\\\u003e High\\\\u003cbr\\\\u003e\\\\u003cb\\\\u003eCounty:\\\\u003c/b\\\\u003e Hopewell City\", \"\\\\u003cb\\\\u003eDeath Count:\\\\u003c/b\\\\u003e 12.0\\\\u003cbr\\\\u003e\\\\u003cb\\\\u003eLevel:\\\\u003c/b\\\\u003e Low\\\\u003cbr\\\\u003e\\\\u003cb\\\\u003eCounty:\\\\u003c/b\\\\u003e Montgomery County\", \"\\\\u003cb\\\\u003eDeath Count:\\\\u003c/b\\\\u003e 10.0\\\\u003cbr\\\\u003e\\\\u003cb\\\\u003eLevel:\\\\u003c/b\\\\u003e Low\\\\u003cbr\\\\u003e\\\\u003cb\\\\u003eCounty:\\\\u003c/b\\\\u003e Albemarle County\", \"\\\\u003cb\\\\u003eDeath Count:\\\\u003c/b\\\\u003e 7.0\\\\u003cbr\\\\u003e\\\\u003cb\\\\u003eLevel:\\\\u003c/b\\\\u003e Low\\\\u003cbr\\\\u003e\\\\u003cb\\\\u003eCounty:\\\\u003c/b\\\\u003e Prince Edward County\", \"\\\\u003cb\\\\u003eDeath Count:\\\\u003c/b\\\\u003e 14.0\\\\u003cbr\\\\u003e\\\\u003cb\\\\u003eLevel:\\\\u003c/b\\\\u003e High\\\\u003cbr\\\\u003e\\\\u003cb\\\\u003eCounty:\\\\u003c/b\\\\u003e Powhatan County\", \"\\\\u003cb\\\\u003eDeath Count:\\\\u003c/b\\\\u003e 13.0\\\\u003cbr\\\\u003e\\\\u003cb\\\\u003eLevel:\\\\u003c/b\\\\u003e Low\\\\u003cbr\\\\u003e\\\\u003cb\\\\u003eCounty:\\\\u003c/b\\\\u003e Fredericksburg City\", \"\\\\u003cb\\\\u003eDeath Count:\\\\u003c/b\\\\u003e 8.0\\\\u003cbr\\\\u003e\\\\u003cb\\\\u003eLevel:\\\\u003c/b\\\\u003e Low\\\\u003cbr\\\\u003e\\\\u003cb\\\\u003eCounty:\\\\u003c/b\\\\u003e Pulaski County\", \"\\\\u003cb\\\\u003eDeath Count:\\\\u003c/b\\\\u003e 11.0\\\\u003cbr\\\\u003e\\\\u003cb\\\\u003eLevel:\\\\u003c/b\\\\u003e Low\\\\u003cbr\\\\u003e\\\\u003cb\\\\u003eCounty:\\\\u003c/b\\\\u003e Bedford County\", \"\\\\u003cb\\\\u003eDeath Count:\\\\u003c/b\\\\u003e 11.0\\\\u003cbr\\\\u003e\\\\u003cb\\\\u003eLevel:\\\\u003c/b\\\\u003e Low\\\\u003cbr\\\\u003e\\\\u003cb\\\\u003eCounty:\\\\u003c/b\\\\u003e Campbell County\", \"\\\\u003cb\\\\u003eDeath Count:\\\\u003c/b\\\\u003e 8.0\\\\u003cbr\\\\u003e\\\\u003cb\\\\u003eLevel:\\\\u003c/b\\\\u003e Low\\\\u003cbr\\\\u003e\\\\u003cb\\\\u003eCounty:\\\\u003c/b\\\\u003e Patrick County\", \"\\\\u003cb\\\\u003eDeath Count:\\\\u003c/b\\\\u003e 12.0\\\\u003cbr\\\\u003e\\\\u003cb\\\\u003eLevel:\\\\u003c/b\\\\u003e Low\\\\u003cbr\\\\u003e\\\\u003cb\\\\u003eCounty:\\\\u003c/b\\\\u003e Caroline County\", \"\\\\u003cb\\\\u003eDeath Count:\\\\u003c/b\\\\u003e 7.0\\\\u003cbr\\\\u003e\\\\u003cb\\\\u003eLevel:\\\\u003c/b\\\\u003e Low\\\\u003cbr\\\\u003e\\\\u003cb\\\\u003eCounty:\\\\u003c/b\\\\u003e Giles County\", \"\\\\u003cb\\\\u003eDeath Count:\\\\u003c/b\\\\u003e 8.0\\\\u003cbr\\\\u003e\\\\u003cb\\\\u003eLevel:\\\\u003c/b\\\\u003e Low\\\\u003cbr\\\\u003e\\\\u003cb\\\\u003eCounty:\\\\u003c/b\\\\u003e Mecklenburg County\", \"\\\\u003cb\\\\u003eDeath Count:\\\\u003c/b\\\\u003e 7.0\\\\u003cbr\\\\u003e\\\\u003cb\\\\u003eLevel:\\\\u003c/b\\\\u003e Low\\\\u003cbr\\\\u003e\\\\u003cb\\\\u003eCounty:\\\\u003c/b\\\\u003e King William County\", \"\\\\u003cb\\\\u003eDeath Count:\\\\u003c/b\\\\u003e 7.0\\\\u003cbr\\\\u003e\\\\u003cb\\\\u003eLevel:\\\\u003c/b\\\\u003e Low\\\\u003cbr\\\\u003e\\\\u003cb\\\\u003eCounty:\\\\u003c/b\\\\u003e Salem City\", \"\\\\u003cb\\\\u003eDeath Count:\\\\u003c/b\\\\u003e 8.0\\\\u003cbr\\\\u003e\\\\u003cb\\\\u003eLevel:\\\\u003c/b\\\\u003e Low\\\\u003cbr\\\\u003e\\\\u003cb\\\\u003eCounty:\\\\u003c/b\\\\u003e Halifax County\", \"\\\\u003cb\\\\u003eDeath Count:\\\\u003c/b\\\\u003e 15.0\\\\u003cbr\\\\u003e\\\\u003cb\\\\u003eLevel:\\\\u003c/b\\\\u003e High\\\\u003cbr\\\\u003e\\\\u003cb\\\\u003eCounty:\\\\u003c/b\\\\u003e Franklin County\", \"\\\\u003cb\\\\u003eDeath Count:\\\\u003c/b\\\\u003e 13.0\\\\u003cbr\\\\u003e\\\\u003cb\\\\u003eLevel:\\\\u003c/b\\\\u003e Low\\\\u003cbr\\\\u003e\\\\u003cb\\\\u003eCounty:\\\\u003c/b\\\\u003e Lynchburg City\", \"\\\\u003cb\\\\u003eDeath Count:\\\\u003c/b\\\\u003e 7.0\\\\u003cbr\\\\u003e\\\\u003cb\\\\u003eLevel:\\\\u003c/b\\\\u003e Low\\\\u003cbr\\\\u003e\\\\u003cb\\\\u003eCounty:\\\\u003c/b\\\\u003e Amelia County\", \"\\\\u003cb\\\\u003eDeath Count:\\\\u003c/b\\\\u003e 8.0\\\\u003cbr\\\\u003e\\\\u003cb\\\\u003eLevel:\\\\u003c/b\\\\u003e Low\\\\u003cbr\\\\u003e\\\\u003cb\\\\u003eCounty:\\\\u003c/b\\\\u003e Dinwiddie County\", \"\\\\u003cb\\\\u003eDeath Count:\\\\u003c/b\\\\u003e 10.0\\\\u003cbr\\\\u003e\\\\u003cb\\\\u003eLevel:\\\\u003c/b\\\\u003e Low\\\\u003cbr\\\\u003e\\\\u003cb\\\\u003eCounty:\\\\u003c/b\\\\u003e Manassas City\"], \"dist_label\": \"Member\", \"histogram\": [[{\"color\": \"rgb(13, 128, 67)\", \"height\": 100.0, \"perc\": 86.7}, {\"color\": \"rgb(64, 170, 89)\", \"height\": 15.0, \"perc\": 13.3}, {\"color\": \"rgb(134, 203, 102)\", \"height\": 0.0, \"perc\": 0.0}, {\"color\": \"rgb(191, 228, 122)\", \"height\": 0.0, \"perc\": 0.0}, {\"color\": \"rgb(236, 247, 164)\", \"height\": 0.0, \"perc\": 0.0}, {\"color\": \"rgb(254, 239, 164)\", \"height\": 0.0, \"perc\": 0.0}, {\"color\": \"rgb(253, 198, 117)\", \"height\": 0.0, \"perc\": 0.0}, {\"color\": \"rgb(248, 141, 81)\", \"height\": 0.0, \"perc\": 0.0}, {\"color\": \"rgb(229, 78, 52)\", \"height\": 0.0, \"perc\": 0.0}, {\"color\": \"rgb(190, 24, 38)\", \"height\": 0.0, \"perc\": 0.0}]], \"node_id\": \"cube11_cluster1\", \"projection_stats\": []}, \"type\": \"circle\"}]};\\n    const colorscale = [[0.0, \"rgb(0, 104, 55)\"], [0.1, \"rgb(26, 152, 80)\"], [0.2, \"rgb(102, 189, 99)\"], [0.3, \"rgb(166, 217, 106)\"], [0.4, \"rgb(217, 239, 139)\"], [0.5, \"rgb(255, 255, 191)\"], [0.6, \"rgb(254, 224, 139)\"], [0.7, \"rgb(253, 174, 97)\"], [0.8, \"rgb(244, 109, 67)\"], [0.9, \"rgb(215, 48, 39)\"], [1.0, \"rgb(165, 0, 38)\"]];\\n    const summary = {\"color_function_name\": [\"Overdose Death Count\"], \"custom_meta\": {\"clusterer\": \"KMeans(n_clusters=2, random_state=3471)\", \"n_cubes\": 5, \"nerve_min_intersection\": 1, \"perc_overlap\": 0.1, \"projection\": \"l2norm\", \"scaler\": \"MinMaxScaler()\"}, \"n_edges\": 8, \"n_nodes\": 16, \"n_total\": 149, \"n_unique\": 132, \"node_color_function\": [\"mean\"]};\\n    const summary_histogram = [[[{\"color\": \"rgb(13, 128, 67)\", \"height\": 100.0, \"perc\": 31.2}, {\"color\": \"rgb(64, 170, 89)\", \"height\": 40.0, \"perc\": 12.5}, {\"color\": \"rgb(134, 203, 102)\", \"height\": 20.0, \"perc\": 6.2}, {\"color\": \"rgb(191, 228, 122)\", \"height\": 20.0, \"perc\": 6.2}, {\"color\": \"rgb(236, 247, 164)\", \"height\": 20.0, \"perc\": 6.2}, {\"color\": \"rgb(254, 239, 164)\", \"height\": 60.0, \"perc\": 18.8}, {\"color\": \"rgb(253, 198, 117)\", \"height\": 20.0, \"perc\": 6.2}, {\"color\": \"rgb(248, 141, 81)\", \"height\": 40.0, \"perc\": 12.5}, {\"color\": \"rgb(229, 78, 52)\", \"height\": 0.0, \"perc\": 0.0}, {\"color\": \"rgb(190, 24, 38)\", \"height\": 0.0, \"perc\": 0.0}]]];\\n  </script>\\n\\n  <div id=\"header\">\\n    <div class=\"wrap wrap-header\">\\n\\n      <div class=\"\">\\n\\n        <!-- toolbar -->\\n        <div class=\"toolbar-container\">\\n        \\n<div id=\"toolbar\" class=\\'wrap\\'>\\n    <div id=\"tooltip_control\" class=\"tool_item\">\\n        <h3>\\n        <a href=\"#\"><small id=\"tooltip_tag\">[+]</small></a>\\n        Cluster Details\\n        </h3>\\n    </div>\\n\\n    <div id=\"meta_control\" class=\"tool_item\">\\n        <h3>\\n        <a href=\"#\"><small id=\"meta_tag\">[+]</small></a>\\n        Mapper Summary\\n        </h3>\\n    </div>\\n\\n    <div id=\"help_control\" class=\"tool_item\">\\n        <h3>\\n        <a href=\"#\"><small id=\"helptip_tag\">[+]</small></a>\\n        Help\\n        </h3>\\n    </div>\\n\\n    \\n\\n    \\n\\n    \\n\\n    \\n\\n</div>\\n        </div>\\n        <!-- /toolbar -->\\n\\n        <div class=\\'banner\\'>\\n          <noscript><b>Requires JavaScript (d3.js) for visualizations</b></noscript>\\n          <h1> Overdose Deaths By Opioids Mapper 2020 </h1>\\n        </div>\\n\\n      </div>\\n\\n      <div class=\"wrap-logo\">\\n        <img id=\"logo\" class=\\'logo\\' src=\"data:image/png;base64, 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\">\\n      </div>\\n    </div>\\n\\n  </div>\\n\\n    <div id=\"canvas\" class=\\'canvas\\'>\\n      <!-- Graph will go in here -->\\n      <svg id=\\'svg\\'>\\n        <defs>\\n          <filter id=\"drop-shadow-glow\" filterUnits=\"userSpaceOnUse\" width=\"250%\" height=\"250%\">\\n            <feGaussianBlur in=\"SourceGraphic\" stdDeviation=\"12\" result=\"blur-out\"/>\\n            <feColorMatrix in=\"blur-out\" type=\"hueRotate\" values=\"0\" result=\"color-out\"/>\\n            <feOffset in=\"color-out\" dx=\"0\" dy=\"0\" result=\"the-shadow\"/>\\n            <feComponentTransfer type=\"linear\" slope=\"0.2\" result=\"shadow-opacity\"/>\\n            <feBlend in=\"SourceGraphic\" in2=\"the-shadow\" mode=\"normal\"/>\\n          </filter>\\n          <filter id=\"drop-shadow-pulse\" filterUnits=\"userSpaceOnUse\" width=\"250%\" height=\"250%\">\\n            <feGaussianBlur in=\"SourceGraphic\" stdDeviation=\"12\" result=\"blur-out\">\\n              <animate attributeName=\"stdDeviation\" from=\"0\" to=\"100\" dur=\"1.5s\" repeatCount=\"indefinite\" />\\n            </feGaussianBlur>\\n            <feColorMatrix in=\"blur-out\" type=\"hueRotate\" values=\"0\" result=\"color-out\"/>\\n            <feOffset in=\"color-out\" dx=\"0\" dy=\"0\" result=\"the-shadow\"/>\\n            <feComponentTransfer type=\"linear\" slope=\"0.2\" result=\"shadow-opacity\"/>\\n            <feBlend in=\"SourceGraphic\" in2=\"the-shadow\" mode=\"normal\"/>\\n          </filter>\\n        </defs>\\n      </svg>\\n\\n    <!-- Panes for each of the tips -->\\n    <div id=\"tooltip\" class=\\'pane pane-left\\'>\\n      <div id=\"tooltip_content\" class=\"pane_content\">\\n        <div id=\\'tooltip_content_no_focus_node\\'>\\n          Hover over a node to see attributes about it.\\n        </div>\\n        <div id=\\'tooltip_content_focus_node\\' style=\\'display:none\\'>\\n        <div>\\n  <div class=\\'actions\\'>\\n    <h3>Actions</h3>\\n    <p>\\n      <button class=\\'btn center-on-node\\'>Center viewport on node</button>\\n    </p>\\n  </div>\\n\\n  <div class=\\'details\\'>\\n    <h2>Cluster Details <span style=\"font-size:0.7em\">(node id: <span class=\\'node_id\\'></span>)</span></h2>\\n\\n    <!-- histogram -->\\n    <div class=\\'histogram-wrapper\\'>\\n      <hr><br/>\\n\\n      <h3><span class=\\'distribution_label\\'></span> Distribution</h3>\\n\\n      <div class=\"histogram\"></div>\\n\\n      <br><br>\\n    </div>\\n    <!-- /histogram -->\\n\\n    <!-- Projection Statistics -->\\n    <div class=\\'projection_stats\\' style=\\'display:none\\'>\\n\\n      <hr><br/>\\n\\n      <h3>Projection Statistics</h3>\\n      <table>\\n        <thead>\\n          <tr>\\n            <th>Lens</th>\\n            <th style=\"width:50px;\"><small>Mean</small></th>\\n            <th style=\"width:50px;\"><small>Max</small></th>\\n            <th style=\"width:50px;\"><small>Min</small></th>\\n          </tr>\\n        </thead>\\n        <tbody></tbody>\\n      </table>\\n    </div>\\n\\n    <!-- Cluster Statistics -->\\n    <div class=\\'cluster_stats\\'>\\n        <hr><br/>\\n\\n        <h3>Cluster Statistics</h3>\\n        <div class=\\'above-wrapper\\'>\\n            <h3>Above Average</h3>\\n            <table>\\n              <thead>\\n                <tr>\\n                  <th>Feature</th>\\n                  <th style=\"width:50px;\"><small>Mean</small></th>\\n                  <th style=\"width:50px;\"><small>STD</small></th>\\n                </tr>\\n              </thead>\\n              <tbody></tbody>\\n            </table>\\n        </div>\\n\\n        <div class=\\'below-wrapper\\'>\\n            <h3>Below Average</h3>\\n            <table>\\n              <thead>\\n                <tr>\\n                  <th>Feature</th>\\n                  <th style=\"width:50px;\"><small>Mean</small></th>\\n                  <th style=\"width:50px;\"><small>STD</small></th>\\n                </tr>\\n              </thead>\\n              <tbody></tbody>\\n            </table>\\n        </div>\\n\\n        <h3>Size</h3>\\n        <p class=\\'cluster-size\\'></p>\\n    </div>\\n\\n    <!-- Membership information -->\\n    <div class=\\'membership-information\\'>\\n      <hr> <br/>\\n\\n      <h3>Members</h3>\\n      <div class=\\'list-of-members\\'></div>\\n\\n      <br><br>\\n      <hr><br>\\n    </div>\\n    <!-- /membership information -->\\n  </div>\\n</div>\\n        </div>\\n      </div>\\n    </div>\\n\\n    <div id=\"helptip\" class=\\'pane pane-right\\'>\\n      <div id=\"helptip_content\" class=\"pane_content\">\\n        <!-- Help pane.\\n    TODO: Add more information here.  -->\\n\\n<ul>\\n<li>Click on a node to lock focus on that node. The node with the current focus will pulse. Click off of a node to release the lock.</li>\\n<li>Dragging a node will fix its position on the screen. Double-click a fixed-position node to unfreeze it.</li>\\n</ul>\\n\\n<table>\\n    <tr>\\n        <th>Key</th>\\n        <th><small>Action</small></th>\\n    </tr>\\n\\n    <tr>\\n        <td>s</td>\\n        <td><small>Nodes glow :D</small></td>\\n    </tr>\\n\\n    <tr>\\n        <td>c</td>\\n        <td><small>remove glow</small></td>\\n    </tr>\\n\\n    <tr>\\n        <td>p</td>\\n        <td><small>Print mode - white backgrounds</small></td>\\n    </tr>\\n\\n    <tr>\\n        <td>d</td>\\n        <td><small>Display mode - black backgrounds</small></td>\\n    </tr>\\n\\n    <tr>\\n        <td>z</td>\\n        <td><small>Turn off gravity</small></td>\\n    </tr>\\n\\n    <tr>\\n        <td>m</td>\\n        <td><small>Spacious layout</small></td>\\n    </tr>\\n\\n    <tr>\\n        <td>e</td>\\n        <td><small>Tight layout</small></td>\\n    </tr>\\n\\n    <tr>\\n        <td>f</td>\\n        <td><small>Freeze layout</small></td>\\n    </tr>\\n\\n    <tr>\\n        <td>x</td>\\n        <td><small>Unfreeze all nodes</small></td>\\n    </tr>\\n\\n</table>\\n\\n<div class=\"control-wrapper\">\\n  <div class=\"control-row\">\\n    <button class=\\'btn\\' type=\"button\" id=\"download-config\" name=\"download-config\">Save config</button>\\n  </div>\\n\\n  <div class=\"control-row\">\\n    <label for=\"config-file-loader\">Load config file</label>\\n    <input type=\"file\" id=\"config-file-loader\" name=\"config-file-loader\" accept=\"application/json\">\\n    <button class=\\'btn\\' id=\\'load-config\\' disabled>Load</button>\\n  </div>\\n</div>\\n      </div>\\n    </div>\\n\\n    <div id=\"meta\" class=\\'pane pane-right\\'>\\n      <div id=\"meta_content\" class=\"pane_content\">\\n        <h2>Mapper Summary</h2>\\n\\n<hr><br>\\n\\n\\n    \\n        <h3>projection </h3> <p> l2norm</p>\\n    \\n        <h3>n_cubes </h3> <p> 5</p>\\n    \\n        <h3>perc_overlap </h3> <p> 0.1</p>\\n    \\n        <h3>clusterer </h3> <p> KMeans(n_clusters=2, random_state=3471)</p>\\n    \\n        <h3>scaler </h3> <p> MinMaxScaler()</p>\\n    \\n        <h3>nerve_min_intersection </h3> <p> 1</p>\\n    \\n\\n\\n<h3>Nodes</h3><p> 16 </p>\\n\\n<h3>Edges</h3><p> 8 </p>\\n\\n<h3>Total Samples</h3><p> 149</p>\\n\\n<h3>Unique Samples</h3><p> 132</p>\\n\\n<h3>Color function</h3><p>\\n  Overdose Death Count\\n</p>\\n\\n<h3>Node Color Function</h3><p> mean</p>\\n\\n\\n<!-- histogram -->\\n<hr><br/>\\n\\n<h3>Node Distribution</h3>\\n\\n<div class=\"histogram\"></div>\\n\\n<br><br>\\n<!-- /histogram -->\\n\\n<hr><br>\\n      </div>\\n    </div>\\n\\n  </div>\\n\\n  <script src=\"https://cdnjs.cloudflare.com/ajax/libs/d3/6.1.1/d3.js\"></script>\\n  <script src=\"https://cdn.jsdelivr.net/npm/file-saver@2.0.2/dist/FileSaver.min.js\"></script>\\n\\n  <script>// Height and width settings\\nvar page_height = window.innerHeight - 5;\\nvar header_height = document.getElementById(\\'header\\').offsetHeight;\\nvar canvas_height = page_height - header_height;\\ndocument.getElementById(\"canvas\").style.height = canvas_height + \"px\";\\nvar width = document.getElementById(\"canvas\").offsetWidth;\\nvar height = document.getElementById(\"canvas\").offsetHeight;\\nvar w = width;\\nvar h = height;\\nvar padding = 40;\\n\\nvar focus_node_id = null;\\nvar focus_node = null;\\nvar text_center = false;\\nvar outline = false;\\n\\n// Size for zooming\\nvar size = d3.scalePow().exponent(1)\\n           .domain([1,100])\\n           .range([8,24]);\\n\\n// Variety of variable inits\\nvar default_node_color = \"#ccc\";\\nvar default_node_color = \"rgba(160,160,160, 0.5)\";\\nvar default_link_color = \"rgba(160,160,160, 0.5)\";\\nvar nominal_base_node_size = 8;\\nvar nominal_text_size = 15;\\nvar max_text_size = 24;\\nvar nominal_stroke = 1.0;\\nvar max_stroke = 4.5;\\nvar max_base_node_size = 36;\\nvar min_zoom = 0.1;\\nvar max_zoom = 7;\\nvar zoom;\\nvar svg, g;\\nvar simulation;\\nvar link, node;\\nvar drag;\\nvar dragging = false;\\nvar circle;\\nvar text;\\nvar focus_via_click = false;\\nvar nodes = [];\\nvar links = [];\\n\\nvar tocolor = \"fill\";\\nvar towhite = \"stroke\";\\nif (outline) {\\n  tocolor = \"stroke\";\\n  towhite = \"fill\";\\n}\\n\\n/**\\n * Side panes\\n */\\n\\n// Show/Hide Functionality\\nfunction toggle_pane(content, content_id, tag) {\\n  var active = content.active ? false : true;\\n\\n  if (active) {\\n    content_id.style(\"display\", \"block\");\\n    tag.node().textContent = \"[-]\";\\n  } else {\\n    content_id.style(\"display\", \"none\");\\n    tag.node().textContent = \"[+]\";\\n  }\\n\\n  // TODO: This is probably not the best way to find the correct height.\\n  var h = canvas_height - content.offsetTop - padding;\\n  content_id.style(\"height\", h + \"px\")\\n\\n  content.active = active;\\n}\\n\\nd3.select(\"#tooltip_control\").on(\"click\", function(e) {\\n  toggle_pane(tooltip_content,\\n              d3.select(\"#tooltip_content\"),\\n              d3.select(\"#tooltip_tag\"))\\n\\n});\\n\\nd3.select(\"#meta_control\").on(\"click\", function(e) {\\n  toggle_pane(meta_content,\\n              d3.select(\"#meta_content\"),\\n              d3.select(\"#meta_tag\"))\\n\\n});\\n\\nd3.select(\"#help_control\").on(\"click\", function(e) {\\n  toggle_pane(helptip_content,\\n              d3.select(\"#helptip_content\"),\\n              d3.select(\"#helptip_tag\"))\\n});\\n\\nd3.select(\\'#select-color-function\\').on(\\'input\\', function(e){\\n  color_function_index = parseInt(e.target.value);\\n  update_color_functions()\\n})\\nd3.select(\\'#select-node-color-function\\').on(\\'input\\', function(e){\\n  node_color_function_index = parseInt(e.target.value);\\n  update_color_functions()\\n})\\n\\n/**\\n *\\n * Set up color scale\\n *\\n *\\n */\\n// var colorscale defined in base.html\\nvar domain = colorscale.map((x)=>x[0])\\nvar palette = colorscale.map((x)=>x[1])\\n\\nvar color = d3.scaleLinear()\\n  .domain(domain)\\n  .range(palette);\\n\\n/*\\n* one-time setups, like SVG and force init\\n*/\\nfunction init() {\\n\\n  zoom = d3.zoom()\\n    .scaleExtent([min_zoom, max_zoom])\\n    .on(\\'zoom\\', zoomed)\\n\\n  // We draw the graph in SVG\\n  svg = d3.select(\"#canvas svg\")\\n          .attr(\"width\", width)\\n          .attr(\"height\", height)\\n          .style(\"cursor\",\"move\")\\n          .call(zoom)\\n          .on(\\'dblclick.zoom\\', null); // prevent default zoom-in on dblclick\\n\\n  svg.on(\\'click.focus\\', function(e){\\n    set_focus_via_click(null);\\n  });\\n\\n  g = svg.append(\"g\")\\n\\n  link = g.selectAll(\".link\")\\n  node = g.selectAll(\".node\")\\n  text = g.selectAll(\".text\")\\n\\n  simulation = d3.forceSimulation()\\n    .force(\\'charge\\', d3.forceManyBody().strength(-1200))\\n    .force(\\'center\\', d3.forceCenter(width / 2, height / 2))\\n    .force(\\'link\\', d3.forceLink().distance(5))\\n    .force(\\'x\\', d3.forceX()) // not sure what this does...\\n    .force(\\'y\\', d3.forceY())\\n    .on(\\'tick\\', ticked)\\n\\n  drag = d3.drag()\\n    .on(\"start\", function(e, d){\\n      svg.style(\\'cursor\\',\\'grabbing\\');\\n      if (!e.active) {\\n        simulation.alphaTarget(0.3).restart()\\n      }\\n      d.fx = d.x\\n      d.fy = d.y\\n      dragging = true;\\n    })\\n    .on(\\'drag\\', function(e, d){\\n      d.fx = e.x\\n      d.fy = e.y\\n    })\\n    .on(\\'end\\', function(e, d){\\n      if (!e.active) {\\n        simulation.alphaTarget(0)\\n      }\\n      dragging = false;\\n    });\\n\\n  resize();\\n  d3.select(window).on(\"resize\", resize);\\n\\n  d3.select(window).on(\"mouseup.focus\", function(e){\\n    if (focus_node == null) {\\n      set_cursor(\\'move\\');\\n    } else {\\n      set_cursor(\\'pointer\\');\\n    }\\n  });\\n}\\n\\nfunction set_histogram(selection, data){\\n  selection.selectAll(\\'.bin\\')\\n    .data(data)\\n    .join(\\n      enter => enter.append(\\'div\\')\\n        .attr(\\'class\\', \\'bin\\')\\n        .call(enter => enter.append(\\'div\\')\\n          .text(d => d.perc + \\'%\\'))\\n      ,\\n      update => update\\n        .call(update => update.select(\\'div\\')\\n          .text(d => d.perc + \\'%\\'))\\n    )\\n    .style(\\'height\\', (d) => (d.height || 1) + \\'px\\')\\n    .style(\\'background\\', (d) => d.color);\\n}\\n\\n\\n\\nvar color_function_index = 0;\\nvar node_color_function_index = 0;\\n\\nfunction update_color_functions(){\\n  // update_meta_content_histogram\\n  set_histogram(d3.select(\\'#meta_content .histogram\\'), summary_histogram[node_color_function_index][color_function_index])\\n\\n  // update node colors\\n  node.style(tocolor, function(d) {\\n    return color(d.color[node_color_function_index][color_function_index]);\\n  })\\n\\n  // update focus node display, if focus_node\\n  if (focus_node != null){\\n    set_focus_node_histogram(focus_node)\\n  }\\n}\\n\\nfunction update_meta_content_histogram(){\\n\\n}\\n\\nfunction draw_circle_size(d) {\\n  return (d3.symbol()\\n    .size(function(d) {\\n      if (!d.size_modifier) {\\n          d.size_modifier = 1;\\n      }\\n      return d.size * 50 * d.size_modifier;\\n    })\\n    .type(d3.symbolCircle))(d)\\n}\\n\\nfunction start() {\\n\\n  /*\\n  * Force-related things\\n  *\\n  */\\n  // shallow copy to enable restarting,\\n  // because otherwise, starting the force simulation mutates the links (replaces indeces with refs)\\n  nodes = graph.nodes.map(n => Object.assign({}, n));\\n  links = graph.links.map(l => Object.assign({}, l));\\n\\n  // draw links first so that they appear behind nodes\\n  link = link\\n    .data(links)\\n    .join(\"line\")\\n      .attr(\"class\", \"link\")\\n      .style(\"stroke-width\", function(d) { return d.w * nominal_stroke; })\\n      .style(\"stroke-width\", function(d) { return d.w * nominal_stroke; });\\n\\n  node = node\\n    .data(nodes, d => d.name)\\n    .join(enter => enter.append(\"g\")\\n      .attr(\"class\", \"node\")\\n      .attr(\"id\", function(d){ return \"node-\" + d.name })\\n      // append circles...\\n      .append(\"path\")\\n        .attr(\"d\", draw_circle_size )\\n        .attr(\"class\", \"circle\")\\n        .on(\"mouseover.focus\", node_mouseover)\\n        .on(\"mouseout.focus\", node_mouseout)\\n        .on(\\'mousedown.focus\\', node_mousedown)\\n        .on(\"dblclick.freeze\", (e, d) => unfreeze_node(d) )\\n        .on(\\'click.zoom\\', node_click)\\n        .on(\\'center_viewport\\', center_on_node)\\n        .call(drag));\\n\\n  simulation.nodes(nodes);\\n  simulation.force(\\'link\\').links(links);\\n  simulation.alpha(1).restart()\\n\\n  update_color_functions()\\n}\\n\\ninit();\\nstart();\\n\\nfunction restart() {\\n  // nodes = []\\n  // links = []\\n  // node.remove()\\n  // link.remove()\\n  focus_via_click = false;\\n  start()\\n}\\n\\nfunction zoomed({transform}){\\n  g.attr(\\'transform\\', transform)\\n}\\n\\nfunction ticked() {\\n  node.attr(\"transform\", function(d) { return \"translate(\" + d.x + \",\" + d.y + \")\"; })\\n      .attr(\"cx\", function(d) { return d.x; })\\n      .attr(\"cy\", function(d) { return d.y; })\\n\\n  link.attr(\"x1\", function(d) { return d.source.x; })\\n      .attr(\"y1\", function(d) { return d.source.y; })\\n      .attr(\"x2\", function(d) { return d.target.x; })\\n      .attr(\"y2\", function(d) { return d.target.y; });\\n}\\n\\n/*\\n* Resizing window and redraws\\n*/\\nfunction resize() {\\n  var width = document.getElementById(\"canvas\").offsetWidth;\\n  var height = document.getElementById(\"canvas\").offsetHeight;\\n\\n  svg.attr(\"width\", width)\\n     .attr(\"height\", height);\\n\\n  simulation.force(\\'center\\', d3.forceCenter(width / 2, height / 2));\\n  simulation.alpha(.3).restart();\\n\\n  w = width;\\n  h = height;\\n}\\n\\nfunction set_focus_via_click(d) {\\n  focus_via_click = (d != null ? true : false);\\n  set_focus_node(d);\\n}\\n\\nfunction do_above_below_stats(wrapper, data) {\\n  let column_order = [\\'feature\\', \\'mean\\', \\'std\\'];\\n  wrapper.select(\\'tbody\\')\\n    .selectAll(\\'tr\\')\\n    .data(data, d => d)\\n    .join(enter => {\\n        let tr = enter.append(\\'tr\\')\\n        tr.append(\\'td\\')\\n        tr.append(\\'td\\').style(\\'font-size\\', \\'smaller\\')\\n        tr.append(\\'td\\').style(\\'font-size\\', \\'smaller\\').attr(\\'class\\', \\'std\\')\\n        return tr\\n        })\\n    .selectAll(\\'td\\')\\n    .text( (d, i) => d[column_order[i]] )\\n  if (data.length > 0) {\\n    wrapper.style(\\'display\\', \\'block\\')\\n  } else {\\n    wrapper.style(\\'display\\', \\'none\\')\\n  }\\n}\\n\\nfunction do_projection_stats(wrapper, data) {\\n  let column_order = [\\'name\\', \\'mean\\', \\'min\\', \\'max\\'];\\n  wrapper.select(\\'tbody\\').selectAll(\\'tr\\')\\n    .data(data, d => d)\\n    .join(enter => {\\n      let tr = enter.append(\\'tr\\')\\n      tr.append(\\'td\\')\\n      tr.append(\\'td\\').style(\\'font-size\\', \\'smaller\\')\\n      tr.append(\\'td\\').style(\\'font-size\\', \\'smaller\\')\\n      tr.append(\\'td\\').style(\\'font-size\\', \\'smaller\\')\\n      return tr;\\n    })\\n    .selectAll(\\'td\\')\\n    .text( (d, i) => d[column_order[i]] );\\n  if (data.length > 0) {\\n    wrapper.style(\\'display\\', \\'block\\')\\n  } else {\\n    wrapper.style(\\'display\\', \\'none\\')\\n  }\\n}\\n\\nlet focus_node_tooltip_select = d3.select(\\'#tooltip_content_focus_node\\');\\nlet tooltip_content_no_focus_node = d3.select(\\'#tooltip_content_no_focus_node\\')\\nlet projection_stats_select = focus_node_tooltip_select.select(\\'.projection_stats\\');\\nlet cluster_stats_select = focus_node_tooltip_select.select(\\'.cluster_stats\\');\\nlet above_wrapper = cluster_stats_select.select(\\'.above-wrapper\\');\\nlet below_wrapper = cluster_stats_select.select(\\'.below-wrapper\\');\\nlet list_of_members = focus_node_tooltip_select.select(\\'.membership-information .list-of-members\\');\\n\\nfunction set_focus_node(d){\\n  if (d == null) {\\n    focus_node = null;\\n    set_cursor(\\'move\\');\\n    tooltip_content_no_focus_node.style(\\'display\\', \\'block\\');\\n    focus_node_tooltip_select.style(\\'display\\', \\'none\\')\\n    exit_highlight();\\n  } else if (focus_node == null || d.name != focus_node.name) {\\n    exit_highlight(focus_node);\\n    focus_node = d;\\n    set_highlight(focus_node);\\n    set_cursor(\\'pointer\\');\\n\\n    tooltip_content_no_focus_node.style(\\'display\\', \\'none\\');\\n\\n    focus_node_tooltip_select.select(\\'button.center-on-node\\').node().dataset.nodeId = d.tooltip.node_id;\\n    focus_node_tooltip_select.select(\\'.node_id\\').text(d.tooltip.node_id)\\n    focus_node_tooltip_select.select(\\'.distribution_label\\').text(d.tooltip.dist_label)\\n\\n    // histogram\\n    set_focus_node_histogram(d)\\n\\n    // projection statistics\\n    let projection_stats = d.tooltip.projection_stats;\\n    do_projection_stats(projection_stats_select, projection_stats)\\n\\n    // cluster statistics\\n    let cluster_stats = d.tooltip.cluster_stats;\\n    if (cluster_stats) {\\n\\n      do_above_below_stats(above_wrapper, cluster_stats.above);\\n\\n      do_above_below_stats(below_wrapper, cluster_stats.below);\\n\\n      cluster_stats_select.select(\\'.cluster-size\\').text(cluster_stats.size)\\n\\n      cluster_stats_select.style(\\'display\\', \\'block\\')\\n    } else {\\n      cluster_stats_select.style(\\'display\\', \\'none\\')\\n    }\\n\\n    // membership information\\n    list_of_members.selectAll(\\'span\\')\\n      .data(d.tooltip.custom_tooltips, d => d)\\n      .join(\\'span\\')\\n        .html(d => d)\\n        .style(\\'display\\', \\'inline-block\\')\\n        .style(\\'padding\\', \\'0 3px\\')\\n\\n    focus_node_tooltip_select.style(\\'display\\', \\'block\\');\\n\\n    set_focus_node_histogram(d)\\n  }\\n  // else, it\\'s already the focus node, so do nothing...\\n}\\n\\nd3.select(\\'#tooltip .center-on-node\\').on(\\'click\\', function(e){\\n  // d3.select(\\'#node-\\' + focus_node.name + \\' .circle\\').dispatch(\\'center_viewport\\')\\n  d3.select(\\'#node-\\' + e.target.dataset.nodeId + \\' .circle\\').dispatch(\\'center_viewport\\')\\n})\\n\\nfunction set_focus_node_histogram(d){\\n  set_histogram(d3.select(\\'#tooltip_content .histogram\\'), d.tooltip.histogram[color_function_index])\\n}\\n\\nfunction set_highlight(node) {\\n  let node_id = node.name;\\n  d3.select(\\'#node-\\' + node_id + \\' .circle\\').classed(\\'highlight\\', true);\\n  d3.select(\\'#node-\\' + node_id).classed(\\'highlight\\', true);\\n}\\n\\nfunction exit_highlight(node) {\\n  let node_id = false;\\n  if (node) {\\n    node_id = node.name\\n  }\\n  if (!node_id) {\\n     d3.selectAll(\\'.node .circle\\').classed(\\'highlight\\', false);\\n     d3.selectAll(\\'.node\\').classed(\\'highlight\\', false);\\n  } else {\\n     d3.select(\\'#node-\\' + node_id + \\' .circle\\').classed(\\'highlight\\', false);\\n     d3.select(\\'#node-\\' + node_id).classed(\\'highlight\\', false);\\n  }\\n\\n  do_projection_stats(projection_stats_select, [])\\n  do_above_below_stats(above_wrapper, [])\\n  do_above_below_stats(below_wrapper, [])\\n}\\n\\nfunction set_cursor(state) {\\n  if (!dragging) {\\n    svg.style(\\'cursor\\', state);\\n  }\\n}\\n\\nfunction node_is_fixed(d){\\n  return d.hasOwnProperty(\\'fx\\') || d.hasOwnProperty(\\'fy\\')\\n}\\n\\nfunction node_click(e, d) {\\n  e.stopPropagation()\\n  // to prevent the svg click.focus listener from unsetting the focus node...\\n}\\n\\nfunction center_on_node(e, d) {\\n  svg.transition().duration(250).call(zoom.translateTo, d.x, d.y);\\n}\\n\\nfunction node_mouseover(e, d) {\\n  d.was_fixed = d.hasOwnProperty(\\'fx\\') || d.hasOwnProperty(\\'fy\\')\\n  if (!d.was_fixed){\\n    d.fx = d.x;\\n    d.fy = d.y;\\n  }\\n\\n  if (e.buttons == 0){\\n    set_cursor(\\'pointer\\');\\n    if (!focus_via_click) {\\n      set_focus_node(d);\\n    }\\n  }\\n}\\n\\nfunction node_mouseout(e, d) {\\n  if (!d.was_fixed){\\n      delete d.fx\\n      delete d.fy\\n  }\\n  if (e.buttons == 0){\\n    set_cursor(\\'move\\');\\n    if (!focus_via_click) {\\n        set_focus_node(null);\\n    }\\n  }\\n}\\n\\nfunction node_mousedown(e, d) {\\n  e.stopPropagation();\\n  if (focus_node.name != d.name) {\\n      //switch click focus\\n      set_focus_via_click(d);\\n  } else if (!focus_via_click) {\\n      //d already selected but not via click; set click true\\n      focus_via_click = true;\\n  }\\n}\\n\\n\\n\\nfunction isNumber(n) {\\n  return !isNaN(parseFloat(n)) && isFinite(n);\\n}\\n\\nfunction unfreeze_node(d){\\n  delete d.fy\\n  delete d.fx\\n  return d\\n}\\n\\nfunction freeze_node(d){\\n  d.fx = d.x;\\n  d.fy = d.y;\\n  return d\\n}\\n\\n// search functionality\\nd3.select(\\'#searchbar\\')\\n  .on(\\'submit\\', function(event){\\n      /*\\n      * Searchbar functionality\\n      *\\n      * Permits AND, OR, and EXACT functionality\\n      *\\n      */\\n      event.preventDefault();\\n      // always running this will clear search results on a submit with an empty query\\n      node.datum(d => { d.size_modifier = 1; return d });\\n      node.style(\\'filter\\', null)\\n\\n      node.datum(d => {\\n        let to_lower = tooltip => String(tooltip).toLowerCase();\\n        d.tooltip.custom_tooltips_lowercase = d.tooltip.custom_tooltips.map(to_lower)\\n        return d\\n      });\\n\\n      let search_query = d3.select(this).select(\\'input\\').property(\\'value\\').toLowerCase();\\n      if (search_query) {\\n          let search_mode = d3.select(this).select(\\'input[name=\"search_mode\"]:checked\\').property(\\'value\\');\\n\\n          let node_ratio_fn = (d, i) => {\\n            matches = d.tooltip.custom_tooltips_lowercase.map(map_fn)\\n            let how_many = matches.filter(x=>x).length;\\n\\n            // Future optional feature -- size relative to ratio _within-node_\\n            let out_of = d.tooltip.cluster_stats.size;\\n            let ratio = how_many / out_of;\\n\\n            // Node sizes will be overall number of items in the node\\n            // number of matching\\n            d.size_modifier = how_many;\\n          }\\n\\n          let map_fn;\\n          let node_each_fn;\\n          switch (search_mode) {\\n            case \\'and\\':\\n              search_query = search_query.split(\\' \\');\\n              map_fn = tooltip => {\\n                return search_query.every(query_word => { return tooltip.includes( query_word ) })\\n              }\\n              node.each(node_ratio_fn)\\n              break;\\n            case \\'or\\':\\n              search_query = search_query.split(\\' \\');\\n              map_fn = tooltip => {\\n                return search_query.some(query_word => { return tooltip.includes( query_word ) })\\n              }\\n              node.each(node_ratio_fn)\\n              break;\\n            case \\'exact\\':\\n              node.filter((d,i) => {\\n                  matches = d.tooltip.custom_tooltips_lowercase.map(tooltip => tooltip == search_query)\\n                  return matches.some(e => e);\\n              })\\n              .style(\"filter\", \"url(#drop-shadow-glow)\");\\n              break;\\n            default:\\n              console.error(`search mode ${search_mode} unknown`);\\n              return;\\n          }\\n\\n      }\\n      node.attr(\"d\", draw_circle_size )\\n\\n  })\\n\\n\\n//https://stackoverflow.com/questions/51319147/map-default-value\\nclass MapWithDefault extends Map {\\n  get(key) {\\n    if (!this.has(key)) {\\n      this.set(key, this.default())\\n    };\\n    return super.get(key);\\n  }\\n\\n  constructor(defaultFunction, entries) {\\n    super(entries);\\n    this.default = defaultFunction;\\n  }\\n}\\n\\nd3.select(\\'#min_intersction_selector\\')\\n  .on(\\'submit\\', function(event){\\n    // replicates the logic in kmapper.nerve.GraphNerve.compute\\n    event.preventDefault()\\n\\n    let result = new MapWithDefault(() => []);\\n\\n    // loop over all combinations of nodes\\n    // https://stackoverflow.com/a/43241295/1396649\\n    let candidates = []\\n    let num_nodes = graph.nodes.length;\\n    for (let i = 0; i < num_nodes - 1; i++){\\n      for (let j = i + 1; j < num_nodes; j++) {\\n        candidates.push([i, j]);\\n      }\\n    }\\n\\n    candidates.forEach(function(candidate) {\\n      let node1_idx = candidate[0];\\n      let node2_idx = candidate[1];\\n      let node1 = graph.nodes[node1_idx];\\n      let node2 = graph.nodes[node2_idx];\\n      let intersection = node1.tooltip.custom_tooltips.filter(x => node2.tooltip.custom_tooltips.includes(x));\\n      if (intersection.length >= Number(min_intersction_selector_input.property(\\'value\\')) ) {\\n        result.get(node1_idx).push(node2_idx)\\n      }\\n    })\\n\\n    let edges = []\\n    result.forEach(function(value, key) {\\n      let _edges = value.map(function(end) {\\n        return [key, end]\\n      })\\n      edges.push(_edges);\\n    })\\n\\n    edges = edges.flat().map(function(edge) {\\n      return {\\n        \\'source\\': edge[0],\\n        \\'target\\': edge[1],\\n        \\'width\\': 1\\n      }\\n    })\\n\\n    graph.links = edges;\\n    restart()\\n  })\\n\\n\\n// Dynamically size the min_intersection_selector input\\nlet min_intersction_selector_input = d3.select(\\'#min_intersction_selector input\\');\\n\\nmin_intersction_selector_input\\n  .on(\\'input\\', function(event){\\n    resizeInput.call(this)\\n  })\\n\\nfunction resizeInput() {\\n  this.style.width = ( this.value.length + 3 ) + \"ch\";\\n}\\n\\n// Only trigger if input is present\\nif (min_intersction_selector_input.size()) {\\n  resizeInput.call(min_intersction_selector_input.node())\\n}\\n\\n\\n// Key press events\\nlet searchbar = d3.select(\\'#searchbar input\\');\\n\\nd3.select(window).on(\"keydown\", function (event) {\\n  if (event.defaultPrevented) {\\n    return; // Do nothing if the event was already processed\\n  }\\n\\n  // if searchbar is present and has focus\\n  if (searchbar.size() && searchbar.node().matches(\\':focus\\')){\\n      return; // let them use the search bar.\\n  }\\n\\n  if (!event.ctrlKey && !event.altKey && !event.metaKey) {\\n    switch (event.key) {\\n      case \"f\": // freeze all\\n        node.datum(freeze_node);\\n        break;\\n      case \"x\": // unfreeze all\\n        node.datum(unfreeze_node);\\n        simulation.alphaTarget(.3).restart()\\n        break\\n      case \"s\":\\n        // Glow\\n        node.style(\"filter\", \"url(#drop-shadow-glow)\");\\n        break;\\n      case \"c\":\\n        // Remove glow\\n        node.style(\"filter\", null);\\n        break;\\n      case \"p\":\\n        // Turn to print mode, white backgrounds\\n        d3.select(\"body\").attr(\\'id\\', null).attr(\\'id\\', \"print\")\\n        break;\\n      case \"d\":\\n        // \"Display\" mode (dark background)\\n        d3.select(\"body\").attr(\\'id\\', null).attr(\\'id\\', \"display\")\\n        break;\\n      case \"z\":\\n        // turn off gravity (??)\\n        simulation\\n          .force(\\'charge\\', d3.forceManyBody().strength(0))\\n          .alphaTarget(.3)\\n          .restart()\\n        break\\n      case \"m\":\\n        // spacious layout\\n        simulation\\n          .force(\\'charge\\', d3.forceManyBody().strength(-1200))\\n          .alphaTarget(.3)\\n          .restart()\\n        break\\n      case \"e\":\\n        // tight layout\\n        simulation\\n          .force(\\'charge\\', d3.forceManyBody().strength(-60))\\n          .alphaTarget(.3)\\n          .restart()\\n        break\\n      default:\\n        return; // Quit when this doesn\\'t handle the key event.\\n    }\\n  event.preventDefault();\\n  }\\n  // Cancel the default action to avoid it being handled twice\\n}, true);\\n\\n\\n\\n/*\\n* Save and load config\\n*\\n*/\\n\\n// save config\\ndocument.getElementById(\\'download-config\\').addEventListener(\\'click\\', function(e){\\n  let config = {}\\n  node.data().forEach(node => {\\n      let config_node = {}\\n\\n      if ( node.hasOwnProperty(\\'fx\\') && node.hasOwnProperty(\\'fy\\') ) {\\n        config_node[\\'fx\\'] = config_node[\\'x\\'] = node[\\'fx\\']\\n        config_node[\\'fy\\'] = config_node[\\'y\\'] = node[\\'fy\\']\\n      } else {\\n        config_node[\\'x\\'] = node[\\'x\\']\\n        config_node[\\'y\\'] = node[\\'y\\']\\n      }\\n      config[node[\\'name\\']] = config_node\\n    })\\n\\n  //JSON.stringify(config,undefined,2)\\n\\n  // https://stackoverflow.com/a/45594892\\n  var fileName = \\'kmapper-config.json\\';\\n\\n  // Create a blob of the data. Blob is native JS api\\n  var fileToSave = new Blob([JSON.stringify(config)], {\\n      type: \\'application/json\\',\\n      name: fileName\\n  });\\n\\n  // function from FileSaver.js\\n  saveAs(fileToSave, fileName);\\n})\\n\\n// load config\\nvar config_file_loader = document.getElementById(\\'config-file-loader\\');\\n\\nconfig_file_loader.addEventListener(\\'change\\', function(){\\n  document.getElementById(\\'load-config\\').disabled = ( config_file_loader.files.length === 0 )\\n})\\n\\ndocument.getElementById(\\'load-config\\').addEventListener(\\'click\\', function(){\\n  const config_file = config_file_loader.files[0];\\n  const fr = new FileReader();\\n  fr.onload = function(e) {\\n    var config = JSON.parse(e.target.result);\\n    load_config(config);\\n  }\\n  fr.readAsText(config_file)\\n})\\nfunction load_config(config){\\n  node = node.datum(function(d, i){\\n    let load_node_config = config[d[\\'name\\']]\\n    d = Object.assign(d, load_node_config);\\n    if ( d.hasOwnProperty(\\'fx\\') && !load_node_config.hasOwnProperty(\\'fx\\') ) {\\n      delete d[\\'fx\\']\\n    }\\n    if ( d.hasOwnProperty(\\'fy\\') && !load_node_config.hasOwnProperty(\\'fy\\') ) {\\n      delete d[\\'fy\\']\\n    }\\n    return d;\\n  })\\n  simulation.restart()\\n}\\n</script>\\n</body>\\n\\n</html>'"
      ]
     },
     "execution_count": 357,
     "metadata": {},
     "output_type": "execute_result"
    }
   ],
   "source": [
    "mapper.visualize(\n",
    "    scomplex,\n",
    "    path_html=\"mapper_opioid_overdose_2020.html\",\n",
    "    title=\"Overdose Deaths By Opioids Mapper 2020\",\n",
    "    color_values=color_values,\n",
    "    color_function_name=\"Overdose Death Count\",\n",
    "    colorscale=pl_brewer,\n",
    "    custom_tooltips=custom_tooltips\n",
    ")\n"
   ]
  },
  {
   "cell_type": "markdown",
   "metadata": {},
   "source": [
    "# Drug Overdoses By Count (End)"
   ]
  }
 ],
 "metadata": {
  "kernelspec": {
   "display_name": "va_drug_od",
   "language": "python",
   "name": "python3"
  },
  "language_info": {
   "codemirror_mode": {
    "name": "ipython",
    "version": 3
   },
   "file_extension": ".py",
   "mimetype": "text/x-python",
   "name": "python",
   "nbconvert_exporter": "python",
   "pygments_lexer": "ipython3",
   "version": "3.11.9"
  }
 },
 "nbformat": 4,
 "nbformat_minor": 2
}
